{
  "nbformat": 4,
  "nbformat_minor": 0,
  "metadata": {
    "colab": {
      "name": "Siamese_NN_BERT_SuperBowl.ipynb",
      "provenance": [],
      "collapsed_sections": [],
      "authorship_tag": "ABX9TyMtoilPMgd1N3rFcRxnbBVy",
      "include_colab_link": true
    },
    "kernelspec": {
      "name": "python3",
      "display_name": "Python 3"
    },
    "accelerator": "GPU",
    "widgets": {
      "application/vnd.jupyter.widget-state+json": {
        "159d3fdbaccf45538c8a7a080d0fbe15": {
          "model_module": "@jupyter-widgets/controls",
          "model_name": "HBoxModel",
          "state": {
            "_view_name": "HBoxView",
            "_dom_classes": [],
            "_model_name": "HBoxModel",
            "_view_module": "@jupyter-widgets/controls",
            "_model_module_version": "1.5.0",
            "_view_count": null,
            "_view_module_version": "1.5.0",
            "box_style": "",
            "layout": "IPY_MODEL_2527367805894b1b9172c52b0aaec7f0",
            "_model_module": "@jupyter-widgets/controls",
            "children": [
              "IPY_MODEL_c31d25dda4f241f585484d9fd468b546",
              "IPY_MODEL_ec3b00290f3742ed86e843f24cc18bf0"
            ]
          }
        },
        "2527367805894b1b9172c52b0aaec7f0": {
          "model_module": "@jupyter-widgets/base",
          "model_name": "LayoutModel",
          "state": {
            "_view_name": "LayoutView",
            "grid_template_rows": null,
            "right": null,
            "justify_content": null,
            "_view_module": "@jupyter-widgets/base",
            "overflow": null,
            "_model_module_version": "1.2.0",
            "_view_count": null,
            "flex_flow": null,
            "width": null,
            "min_width": null,
            "border": null,
            "align_items": null,
            "bottom": null,
            "_model_module": "@jupyter-widgets/base",
            "top": null,
            "grid_column": null,
            "overflow_y": null,
            "overflow_x": null,
            "grid_auto_flow": null,
            "grid_area": null,
            "grid_template_columns": null,
            "flex": null,
            "_model_name": "LayoutModel",
            "justify_items": null,
            "grid_row": null,
            "max_height": null,
            "align_content": null,
            "visibility": null,
            "align_self": null,
            "height": null,
            "min_height": null,
            "padding": null,
            "grid_auto_rows": null,
            "grid_gap": null,
            "max_width": null,
            "order": null,
            "_view_module_version": "1.2.0",
            "grid_template_areas": null,
            "object_position": null,
            "object_fit": null,
            "grid_auto_columns": null,
            "margin": null,
            "display": null,
            "left": null
          }
        },
        "c31d25dda4f241f585484d9fd468b546": {
          "model_module": "@jupyter-widgets/controls",
          "model_name": "FloatProgressModel",
          "state": {
            "_view_name": "ProgressView",
            "style": "IPY_MODEL_85a0d4a6d7ee4e8083e976b23eaf15ec",
            "_dom_classes": [],
            "description": "Downloading: 100%",
            "_model_name": "FloatProgressModel",
            "bar_style": "success",
            "max": 231508,
            "_view_module": "@jupyter-widgets/controls",
            "_model_module_version": "1.5.0",
            "value": 231508,
            "_view_count": null,
            "_view_module_version": "1.5.0",
            "orientation": "horizontal",
            "min": 0,
            "description_tooltip": null,
            "_model_module": "@jupyter-widgets/controls",
            "layout": "IPY_MODEL_570d3c521d484c6a940eb55a84009c76"
          }
        },
        "ec3b00290f3742ed86e843f24cc18bf0": {
          "model_module": "@jupyter-widgets/controls",
          "model_name": "HTMLModel",
          "state": {
            "_view_name": "HTMLView",
            "style": "IPY_MODEL_4761da0d245e496c8c34e744f16b0fb5",
            "_dom_classes": [],
            "description": "",
            "_model_name": "HTMLModel",
            "placeholder": "​",
            "_view_module": "@jupyter-widgets/controls",
            "_model_module_version": "1.5.0",
            "value": " 232k/232k [00:00&lt;00:00, 790kB/s]",
            "_view_count": null,
            "_view_module_version": "1.5.0",
            "description_tooltip": null,
            "_model_module": "@jupyter-widgets/controls",
            "layout": "IPY_MODEL_d023aac54e6741b393d9cc27c5dc4ee2"
          }
        },
        "85a0d4a6d7ee4e8083e976b23eaf15ec": {
          "model_module": "@jupyter-widgets/controls",
          "model_name": "ProgressStyleModel",
          "state": {
            "_view_name": "StyleView",
            "_model_name": "ProgressStyleModel",
            "description_width": "initial",
            "_view_module": "@jupyter-widgets/base",
            "_model_module_version": "1.5.0",
            "_view_count": null,
            "_view_module_version": "1.2.0",
            "bar_color": null,
            "_model_module": "@jupyter-widgets/controls"
          }
        },
        "570d3c521d484c6a940eb55a84009c76": {
          "model_module": "@jupyter-widgets/base",
          "model_name": "LayoutModel",
          "state": {
            "_view_name": "LayoutView",
            "grid_template_rows": null,
            "right": null,
            "justify_content": null,
            "_view_module": "@jupyter-widgets/base",
            "overflow": null,
            "_model_module_version": "1.2.0",
            "_view_count": null,
            "flex_flow": null,
            "width": null,
            "min_width": null,
            "border": null,
            "align_items": null,
            "bottom": null,
            "_model_module": "@jupyter-widgets/base",
            "top": null,
            "grid_column": null,
            "overflow_y": null,
            "overflow_x": null,
            "grid_auto_flow": null,
            "grid_area": null,
            "grid_template_columns": null,
            "flex": null,
            "_model_name": "LayoutModel",
            "justify_items": null,
            "grid_row": null,
            "max_height": null,
            "align_content": null,
            "visibility": null,
            "align_self": null,
            "height": null,
            "min_height": null,
            "padding": null,
            "grid_auto_rows": null,
            "grid_gap": null,
            "max_width": null,
            "order": null,
            "_view_module_version": "1.2.0",
            "grid_template_areas": null,
            "object_position": null,
            "object_fit": null,
            "grid_auto_columns": null,
            "margin": null,
            "display": null,
            "left": null
          }
        },
        "4761da0d245e496c8c34e744f16b0fb5": {
          "model_module": "@jupyter-widgets/controls",
          "model_name": "DescriptionStyleModel",
          "state": {
            "_view_name": "StyleView",
            "_model_name": "DescriptionStyleModel",
            "description_width": "",
            "_view_module": "@jupyter-widgets/base",
            "_model_module_version": "1.5.0",
            "_view_count": null,
            "_view_module_version": "1.2.0",
            "_model_module": "@jupyter-widgets/controls"
          }
        },
        "d023aac54e6741b393d9cc27c5dc4ee2": {
          "model_module": "@jupyter-widgets/base",
          "model_name": "LayoutModel",
          "state": {
            "_view_name": "LayoutView",
            "grid_template_rows": null,
            "right": null,
            "justify_content": null,
            "_view_module": "@jupyter-widgets/base",
            "overflow": null,
            "_model_module_version": "1.2.0",
            "_view_count": null,
            "flex_flow": null,
            "width": null,
            "min_width": null,
            "border": null,
            "align_items": null,
            "bottom": null,
            "_model_module": "@jupyter-widgets/base",
            "top": null,
            "grid_column": null,
            "overflow_y": null,
            "overflow_x": null,
            "grid_auto_flow": null,
            "grid_area": null,
            "grid_template_columns": null,
            "flex": null,
            "_model_name": "LayoutModel",
            "justify_items": null,
            "grid_row": null,
            "max_height": null,
            "align_content": null,
            "visibility": null,
            "align_self": null,
            "height": null,
            "min_height": null,
            "padding": null,
            "grid_auto_rows": null,
            "grid_gap": null,
            "max_width": null,
            "order": null,
            "_view_module_version": "1.2.0",
            "grid_template_areas": null,
            "object_position": null,
            "object_fit": null,
            "grid_auto_columns": null,
            "margin": null,
            "display": null,
            "left": null
          }
        }
      }
    }
  },
  "cells": [
    {
      "cell_type": "markdown",
      "metadata": {
        "id": "view-in-github",
        "colab_type": "text"
      },
      "source": [
        "<a href=\"https://colab.research.google.com/github/Roopana/TwitterAdAnalysis/blob/master/Siamese_NN_BERT_SuperBowl.ipynb\" target=\"_parent\"><img src=\"https://colab.research.google.com/assets/colab-badge.svg\" alt=\"Open In Colab\"/></a>"
      ]
    },
    {
      "cell_type": "code",
      "metadata": {
        "id": "t1OA2mvtLOWQ",
        "colab_type": "code",
        "colab": {
          "base_uri": "https://localhost:8080/",
          "height": 51
        },
        "outputId": "e5459a04-9e2d-4057-ec78-4eb069489c06"
      },
      "source": [
        "import torch\n",
        "# If there's a GPU available...\n",
        "if torch.cuda.is_available():    \n",
        "    # Tell PyTorch to use the GPU.    \n",
        "    device = torch.device(\"cuda\")\n",
        "    print('There are %d GPU(s) available.' % torch.cuda.device_count())\n",
        "    print('We will use the GPU:', torch.cuda.get_device_name(0))\n",
        "# If not...\n",
        "else:\n",
        "    print('No GPU available, using the CPU instead.')\n",
        "    device = torch.device(\"cpu\")"
      ],
      "execution_count": 1,
      "outputs": [
        {
          "output_type": "stream",
          "text": [
            "There are 1 GPU(s) available.\n",
            "We will use the GPU: Tesla T4\n"
          ],
          "name": "stdout"
        }
      ]
    },
    {
      "cell_type": "code",
      "metadata": {
        "id": "OC6gOpw8LgXJ",
        "colab_type": "code",
        "colab": {
          "base_uri": "https://localhost:8080/",
          "height": 615
        },
        "outputId": "4d3b8ec7-2636-452d-cd8f-807fcf06d0ad"
      },
      "source": [
        "!pip install transformers"
      ],
      "execution_count": 2,
      "outputs": [
        {
          "output_type": "stream",
          "text": [
            "Collecting transformers\n",
            "\u001b[?25l  Downloading https://files.pythonhosted.org/packages/27/3c/91ed8f5c4e7ef3227b4119200fc0ed4b4fd965b1f0172021c25701087825/transformers-3.0.2-py3-none-any.whl (769kB)\n",
            "\r\u001b[K     |▍                               | 10kB 26.1MB/s eta 0:00:01\r\u001b[K     |▉                               | 20kB 3.4MB/s eta 0:00:01\r\u001b[K     |█▎                              | 30kB 4.6MB/s eta 0:00:01\r\u001b[K     |█▊                              | 40kB 4.9MB/s eta 0:00:01\r\u001b[K     |██▏                             | 51kB 4.0MB/s eta 0:00:01\r\u001b[K     |██▋                             | 61kB 4.2MB/s eta 0:00:01\r\u001b[K     |███                             | 71kB 4.7MB/s eta 0:00:01\r\u001b[K     |███▍                            | 81kB 5.1MB/s eta 0:00:01\r\u001b[K     |███▉                            | 92kB 5.4MB/s eta 0:00:01\r\u001b[K     |████▎                           | 102kB 5.3MB/s eta 0:00:01\r\u001b[K     |████▊                           | 112kB 5.3MB/s eta 0:00:01\r\u001b[K     |█████▏                          | 122kB 5.3MB/s eta 0:00:01\r\u001b[K     |█████▌                          | 133kB 5.3MB/s eta 0:00:01\r\u001b[K     |██████                          | 143kB 5.3MB/s eta 0:00:01\r\u001b[K     |██████▍                         | 153kB 5.3MB/s eta 0:00:01\r\u001b[K     |██████▉                         | 163kB 5.3MB/s eta 0:00:01\r\u001b[K     |███████▎                        | 174kB 5.3MB/s eta 0:00:01\r\u001b[K     |███████▊                        | 184kB 5.3MB/s eta 0:00:01\r\u001b[K     |████████                        | 194kB 5.3MB/s eta 0:00:01\r\u001b[K     |████████▌                       | 204kB 5.3MB/s eta 0:00:01\r\u001b[K     |█████████                       | 215kB 5.3MB/s eta 0:00:01\r\u001b[K     |█████████▍                      | 225kB 5.3MB/s eta 0:00:01\r\u001b[K     |█████████▉                      | 235kB 5.3MB/s eta 0:00:01\r\u001b[K     |██████████▎                     | 245kB 5.3MB/s eta 0:00:01\r\u001b[K     |██████████▋                     | 256kB 5.3MB/s eta 0:00:01\r\u001b[K     |███████████                     | 266kB 5.3MB/s eta 0:00:01\r\u001b[K     |███████████▌                    | 276kB 5.3MB/s eta 0:00:01\r\u001b[K     |████████████                    | 286kB 5.3MB/s eta 0:00:01\r\u001b[K     |████████████▍                   | 296kB 5.3MB/s eta 0:00:01\r\u001b[K     |████████████▉                   | 307kB 5.3MB/s eta 0:00:01\r\u001b[K     |█████████████▏                  | 317kB 5.3MB/s eta 0:00:01\r\u001b[K     |█████████████▋                  | 327kB 5.3MB/s eta 0:00:01\r\u001b[K     |██████████████                  | 337kB 5.3MB/s eta 0:00:01\r\u001b[K     |██████████████▌                 | 348kB 5.3MB/s eta 0:00:01\r\u001b[K     |███████████████                 | 358kB 5.3MB/s eta 0:00:01\r\u001b[K     |███████████████▍                | 368kB 5.3MB/s eta 0:00:01\r\u001b[K     |███████████████▊                | 378kB 5.3MB/s eta 0:00:01\r\u001b[K     |████████████████▏               | 389kB 5.3MB/s eta 0:00:01\r\u001b[K     |████████████████▋               | 399kB 5.3MB/s eta 0:00:01\r\u001b[K     |█████████████████               | 409kB 5.3MB/s eta 0:00:01\r\u001b[K     |█████████████████▌              | 419kB 5.3MB/s eta 0:00:01\r\u001b[K     |██████████████████              | 430kB 5.3MB/s eta 0:00:01\r\u001b[K     |██████████████████▎             | 440kB 5.3MB/s eta 0:00:01\r\u001b[K     |██████████████████▊             | 450kB 5.3MB/s eta 0:00:01\r\u001b[K     |███████████████████▏            | 460kB 5.3MB/s eta 0:00:01\r\u001b[K     |███████████████████▋            | 471kB 5.3MB/s eta 0:00:01\r\u001b[K     |████████████████████            | 481kB 5.3MB/s eta 0:00:01\r\u001b[K     |████████████████████▌           | 491kB 5.3MB/s eta 0:00:01\r\u001b[K     |████████████████████▉           | 501kB 5.3MB/s eta 0:00:01\r\u001b[K     |█████████████████████▎          | 512kB 5.3MB/s eta 0:00:01\r\u001b[K     |█████████████████████▊          | 522kB 5.3MB/s eta 0:00:01\r\u001b[K     |██████████████████████▏         | 532kB 5.3MB/s eta 0:00:01\r\u001b[K     |██████████████████████▋         | 542kB 5.3MB/s eta 0:00:01\r\u001b[K     |███████████████████████         | 552kB 5.3MB/s eta 0:00:01\r\u001b[K     |███████████████████████▍        | 563kB 5.3MB/s eta 0:00:01\r\u001b[K     |███████████████████████▉        | 573kB 5.3MB/s eta 0:00:01\r\u001b[K     |████████████████████████▎       | 583kB 5.3MB/s eta 0:00:01\r\u001b[K     |████████████████████████▊       | 593kB 5.3MB/s eta 0:00:01\r\u001b[K     |█████████████████████████▏      | 604kB 5.3MB/s eta 0:00:01\r\u001b[K     |█████████████████████████▋      | 614kB 5.3MB/s eta 0:00:01\r\u001b[K     |██████████████████████████      | 624kB 5.3MB/s eta 0:00:01\r\u001b[K     |██████████████████████████▍     | 634kB 5.3MB/s eta 0:00:01\r\u001b[K     |██████████████████████████▉     | 645kB 5.3MB/s eta 0:00:01\r\u001b[K     |███████████████████████████▎    | 655kB 5.3MB/s eta 0:00:01\r\u001b[K     |███████████████████████████▊    | 665kB 5.3MB/s eta 0:00:01\r\u001b[K     |████████████████████████████▏   | 675kB 5.3MB/s eta 0:00:01\r\u001b[K     |████████████████████████████▌   | 686kB 5.3MB/s eta 0:00:01\r\u001b[K     |█████████████████████████████   | 696kB 5.3MB/s eta 0:00:01\r\u001b[K     |█████████████████████████████▍  | 706kB 5.3MB/s eta 0:00:01\r\u001b[K     |█████████████████████████████▉  | 716kB 5.3MB/s eta 0:00:01\r\u001b[K     |██████████████████████████████▎ | 727kB 5.3MB/s eta 0:00:01\r\u001b[K     |██████████████████████████████▊ | 737kB 5.3MB/s eta 0:00:01\r\u001b[K     |███████████████████████████████ | 747kB 5.3MB/s eta 0:00:01\r\u001b[K     |███████████████████████████████▌| 757kB 5.3MB/s eta 0:00:01\r\u001b[K     |████████████████████████████████| 768kB 5.3MB/s eta 0:00:01\r\u001b[K     |████████████████████████████████| 778kB 5.3MB/s \n",
            "\u001b[?25hRequirement already satisfied: numpy in /usr/local/lib/python3.6/dist-packages (from transformers) (1.18.5)\n",
            "Requirement already satisfied: tqdm>=4.27 in /usr/local/lib/python3.6/dist-packages (from transformers) (4.41.1)\n",
            "Requirement already satisfied: requests in /usr/local/lib/python3.6/dist-packages (from transformers) (2.23.0)\n",
            "Requirement already satisfied: dataclasses; python_version < \"3.7\" in /usr/local/lib/python3.6/dist-packages (from transformers) (0.7)\n",
            "Collecting tokenizers==0.8.1.rc1\n",
            "\u001b[?25l  Downloading https://files.pythonhosted.org/packages/40/d0/30d5f8d221a0ed981a186c8eb986ce1c94e3a6e87f994eae9f4aa5250217/tokenizers-0.8.1rc1-cp36-cp36m-manylinux1_x86_64.whl (3.0MB)\n",
            "\u001b[K     |████████████████████████████████| 3.0MB 31.3MB/s \n",
            "\u001b[?25hCollecting sentencepiece!=0.1.92\n",
            "\u001b[?25l  Downloading https://files.pythonhosted.org/packages/d4/a4/d0a884c4300004a78cca907a6ff9a5e9fe4f090f5d95ab341c53d28cbc58/sentencepiece-0.1.91-cp36-cp36m-manylinux1_x86_64.whl (1.1MB)\n",
            "\u001b[K     |████████████████████████████████| 1.1MB 56.2MB/s \n",
            "\u001b[?25hRequirement already satisfied: filelock in /usr/local/lib/python3.6/dist-packages (from transformers) (3.0.12)\n",
            "Requirement already satisfied: packaging in /usr/local/lib/python3.6/dist-packages (from transformers) (20.4)\n",
            "Collecting sacremoses\n",
            "\u001b[?25l  Downloading https://files.pythonhosted.org/packages/7d/34/09d19aff26edcc8eb2a01bed8e98f13a1537005d31e95233fd48216eed10/sacremoses-0.0.43.tar.gz (883kB)\n",
            "\u001b[K     |████████████████████████████████| 890kB 53.1MB/s \n",
            "\u001b[?25hRequirement already satisfied: regex!=2019.12.17 in /usr/local/lib/python3.6/dist-packages (from transformers) (2019.12.20)\n",
            "Requirement already satisfied: idna<3,>=2.5 in /usr/local/lib/python3.6/dist-packages (from requests->transformers) (2.10)\n",
            "Requirement already satisfied: chardet<4,>=3.0.2 in /usr/local/lib/python3.6/dist-packages (from requests->transformers) (3.0.4)\n",
            "Requirement already satisfied: urllib3!=1.25.0,!=1.25.1,<1.26,>=1.21.1 in /usr/local/lib/python3.6/dist-packages (from requests->transformers) (1.24.3)\n",
            "Requirement already satisfied: certifi>=2017.4.17 in /usr/local/lib/python3.6/dist-packages (from requests->transformers) (2020.6.20)\n",
            "Requirement already satisfied: six in /usr/local/lib/python3.6/dist-packages (from packaging->transformers) (1.15.0)\n",
            "Requirement already satisfied: pyparsing>=2.0.2 in /usr/local/lib/python3.6/dist-packages (from packaging->transformers) (2.4.7)\n",
            "Requirement already satisfied: click in /usr/local/lib/python3.6/dist-packages (from sacremoses->transformers) (7.1.2)\n",
            "Requirement already satisfied: joblib in /usr/local/lib/python3.6/dist-packages (from sacremoses->transformers) (0.16.0)\n",
            "Building wheels for collected packages: sacremoses\n",
            "  Building wheel for sacremoses (setup.py) ... \u001b[?25l\u001b[?25hdone\n",
            "  Created wheel for sacremoses: filename=sacremoses-0.0.43-cp36-none-any.whl size=893257 sha256=6fa6101b6b41105f18afd9b624d7d2661a3b71acb2eed09db5284e02a3d219a6\n",
            "  Stored in directory: /root/.cache/pip/wheels/29/3c/fd/7ce5c3f0666dab31a50123635e6fb5e19ceb42ce38d4e58f45\n",
            "Successfully built sacremoses\n",
            "Installing collected packages: tokenizers, sentencepiece, sacremoses, transformers\n",
            "Successfully installed sacremoses-0.0.43 sentencepiece-0.1.91 tokenizers-0.8.1rc1 transformers-3.0.2\n"
          ],
          "name": "stdout"
        }
      ]
    },
    {
      "cell_type": "code",
      "metadata": {
        "id": "xkbPt5xAf7jy",
        "colab_type": "code",
        "colab": {
          "base_uri": "https://localhost:8080/",
          "height": 100,
          "referenced_widgets": [
            "159d3fdbaccf45538c8a7a080d0fbe15",
            "2527367805894b1b9172c52b0aaec7f0",
            "c31d25dda4f241f585484d9fd468b546",
            "ec3b00290f3742ed86e843f24cc18bf0",
            "85a0d4a6d7ee4e8083e976b23eaf15ec",
            "570d3c521d484c6a940eb55a84009c76",
            "4761da0d245e496c8c34e744f16b0fb5",
            "d023aac54e6741b393d9cc27c5dc4ee2"
          ]
        },
        "outputId": "e81ec15a-6c71-4371-f9f2-4c654084b67f"
      },
      "source": [
        "# Tokenize all of the sentences and map the tokens to their word IDs.\n",
        "def get_input_ids(sentences, tokenizer):\n",
        "  input_ids = []\n",
        "  for sent in sentences:\n",
        "      # `encode` will:\n",
        "      #   (1) Tokenize the sentence.(2) Prepend the `[CLS]` token to the start.\n",
        "      #   (3) Append the `[SEP]` token to the end.(4) Map tokens to their IDs.\n",
        "      encoded_sent = tokenizer.encode(\n",
        "                          sent,                      # Sentence to encode.\n",
        "                          add_special_tokens = True, # Add '[CLS]' and '[SEP]'\n",
        "                          # This function also supports truncation and conversion\n",
        "                          # to pytorch tensors, but we need to do padding, so we\n",
        "                          # can't use these features.\n",
        "                          # max_length = 128,          # Truncate all sentences.\n",
        "                          # return_tensors = 'pt',     # Return pytorch tensors.\n",
        "                    )\n",
        "      input_ids.append(encoded_sent)\n",
        "  return input_ids\n",
        "\n",
        "from keras.preprocessing.sequence import pad_sequences\n",
        "\n",
        "def get_padded_Sentences(sentences, tokenizer, length_long_sentence): # to have all sentences of same length\n",
        "  # print(\"len of sentences:\"+ str(len(sentences)))\n",
        "  input_ids = []\n",
        "  input_ids = get_input_ids(sentences, tokenizer) \n",
        "  # print(len(input_ids))\n",
        "  # length_long_sentence = 45 # same as the max length used while initialising the model\n",
        "  # print('Max sentence length: ', max([len(sen) for sen in input_ids]))\n",
        "  padded_sentences = pad_sequences(input_ids, length_long_sentence, padding='post')\n",
        "  # print(padded_sentences)\n",
        "  return padded_sentences\n",
        "\n",
        "from transformers import BertTokenizer\n",
        "tokenizer = BertTokenizer.from_pretrained('bert-base-uncased', do_lower_case=True)\n",
        "print('Loaded BERT tokenizer.')\n",
        "vocab_tokens = list(tokenizer.vocab.keys())\n",
        "print(\"Original Vocab size: \" + str(len(vocab_tokens))) "
      ],
      "execution_count": 3,
      "outputs": [
        {
          "output_type": "display_data",
          "data": {
            "application/vnd.jupyter.widget-view+json": {
              "model_id": "159d3fdbaccf45538c8a7a080d0fbe15",
              "version_minor": 0,
              "version_major": 2
            },
            "text/plain": [
              "HBox(children=(FloatProgress(value=0.0, description='Downloading', max=231508.0, style=ProgressStyle(descripti…"
            ]
          },
          "metadata": {
            "tags": []
          }
        },
        {
          "output_type": "stream",
          "text": [
            "\n",
            "Loaded BERT tokenizer.\n",
            "Original Vocab size: 30522\n"
          ],
          "name": "stdout"
        }
      ]
    },
    {
      "cell_type": "code",
      "metadata": {
        "id": "ZZ3OQ4rnhAgh",
        "colab_type": "code",
        "colab": {}
      },
      "source": [
        "## To upload files from Local\n",
        "# from google.colab import files\n",
        "\n",
        "# uploaded = files.upload()\n",
        "\n",
        "# for fn in uploaded.keys():\n",
        "#   print('User uploaded file \"{name}\" with length {length} bytes'.format(\n",
        "#       name=fn, length=len(uploaded[fn])))"
      ],
      "execution_count": 4,
      "outputs": []
    },
    {
      "cell_type": "code",
      "metadata": {
        "id": "UKbXUIuGLi5Q",
        "colab_type": "code",
        "colab": {
          "base_uri": "https://localhost:8080/",
          "height": 51
        },
        "outputId": "9364e29e-73c8-494d-b3f5-30e4ced3ef05"
      },
      "source": [
        "import pandas as pd\n",
        "import numpy as np\n",
        "\n",
        "df_2 = pd.read_csv(\"./2_man_ann_sb.csv\",  index_col= None)\n",
        "df_2 = df_2.dropna(subset = ['tweet_text'])\n",
        "\n",
        "df_1 = pd.read_csv(\"./mann_ann_sb.csv\", index_col= None)\n",
        "\n",
        "df_3 = pd.read_csv(\"./3_man_ann_sb_full_1.csv\", index_col = None)\n",
        "df_3 = df_3.dropna(subset = ['tweet_text'])\n",
        "\n",
        "df_raw = df_1.append(df_2).append(df_3) # using batch 1 and batch 2 for training\n",
        "\n",
        "all_tweets = df_1.append(df_2).append(df_3)\n",
        "print(all_tweets.shape)\n",
        "df_raw.shape"
      ],
      "execution_count": 5,
      "outputs": [
        {
          "output_type": "stream",
          "text": [
            "(7500, 19)\n"
          ],
          "name": "stdout"
        },
        {
          "output_type": "execute_result",
          "data": {
            "text/plain": [
              "(7500, 19)"
            ]
          },
          "metadata": {
            "tags": []
          },
          "execution_count": 5
        }
      ]
    },
    {
      "cell_type": "code",
      "metadata": {
        "id": "6BqB0Nm2KRXf",
        "colab_type": "code",
        "colab": {
          "base_uri": "https://localhost:8080/",
          "height": 51
        },
        "outputId": "c72cc207-1623-4078-8557-069a3a404245"
      },
      "source": [
        "# Remove ads marked as below because they are not available in ad annotations file although tweets mention them\n",
        "# commercials, joe biden, pizzahut, joe bieden, michael bloomberg, mike bloomberg, scientology\n",
        "ads_remove = ['commercials', 'joe biden', 'pizzahut', 'joe bieden', 'michael bloomberg', 'mike bloomberg', 'scientology']\n",
        "# ads_rename = ['nfl100', 'tide']\n",
        "df_raw['ad_manual_adjusted'] = df_raw['ad_manual_adjusted'].apply(lambda x: x.lower())\n",
        "print(df_raw.shape)\n",
        "df = pd.DataFrame()\n",
        "removed_Data = pd.DataFrame()\n",
        "\n",
        "for i,row  in df_raw.iterrows():\n",
        "  if row['ad_manual_adjusted'] not in ads_remove:\n",
        "    df = df.append(row)\n",
        "  else:\n",
        "    removed_Data = removed_Data.append(row)\n",
        "print(df.shape)"
      ],
      "execution_count": 6,
      "outputs": [
        {
          "output_type": "stream",
          "text": [
            "(7500, 19)\n",
            "(7406, 19)\n"
          ],
          "name": "stdout"
        }
      ]
    },
    {
      "cell_type": "code",
      "metadata": {
        "id": "IPgm4jgIL3mc",
        "colab_type": "code",
        "colab": {
          "base_uri": "https://localhost:8080/",
          "height": 85
        },
        "outputId": "ed4b9a64-ab5b-48f5-d7c3-507a5d1a37c5"
      },
      "source": [
        "from nltk.corpus import stopwords\n",
        "import re\n",
        "import nltk\n",
        "nltk.download('stopwords')\n",
        "\n",
        "stop = stopwords.words('english')\n",
        "stop.append('superbowl')\n",
        "stop.append('super')\n",
        "stop.append('bowl')\n",
        "stop.append('commercial')\n",
        "stop.append('ad')\n",
        "stop.append('commercials')\n",
        "stop.append('ads')\n",
        "print(len(stop))\n",
        "\n",
        "def removeMentions(text):\n",
        "\n",
        "    textBeforeMention = text.partition(\"@\")[0]\n",
        "    textAfterMention = text.partition(\"@\")[2]\n",
        "    textAfterMention =  re.sub(r':', '', textAfterMention) #cadillac join the 31k\n",
        "    tHandle = textAfterMention.partition(\" \")[0].lower() #cadillac    \n",
        "    text = textBeforeMention+ \" \" + textAfterMention  \n",
        "    return text\n",
        "\n",
        "def cleanTweet(strinp):\n",
        "    strinp = re.sub(r'RT', \"\", strinp) # Remove RT\n",
        "    strinp = strinp.lower()\n",
        "    \n",
        "    stop_removed_list = [word for word in strinp.split() if word not in (stop)]\n",
        "    stop_removed = ' '.join([str(elem) for elem in stop_removed_list])    \n",
        "    text = re.sub('https?://[A-Za-z0-9./]+', ' ', stop_removed) # Remove URLs\n",
        "    text = removeMentions(text)\n",
        "    text = re.sub('[^\\x00-\\x7F]+', ' ', text) # Remove non-ASCII chars.\n",
        "    \n",
        "    # remove punctuations except '-'\n",
        "    punctuation = ['(', ')', '[',']','?', ':', ':', ',', '.', '!', '/', '\"', \"'\", '@', '#', '&', '-', '_']\n",
        "    text = \"\".join((char for char in text if char not in punctuation))\n",
        "    text = re.sub('[^a-zA-Z]', ' ', text) # remove all other than alphabet chars \n",
        "\n",
        "#     text = re.sub(r'\\s+[a-zA-Z]\\s+', ' ', text) # remove all single characters     \n",
        "    stop_removed_l = [word for word in text.split() if word not in (stop)]\n",
        "    stop_removed = ' '.join([str(elem) for elem in stop_removed_l]) \n",
        "    return stop_removed\n",
        "\n",
        "print(cleanTweet(\"RT @cadillacabc: Joinrt the 31K james_bond\") )"
      ],
      "execution_count": 7,
      "outputs": [
        {
          "output_type": "stream",
          "text": [
            "[nltk_data] Downloading package stopwords to /root/nltk_data...\n",
            "[nltk_data]   Unzipping corpora/stopwords.zip.\n",
            "186\n",
            "cadillacabc joinrt k jamesbond\n"
          ],
          "name": "stdout"
        }
      ]
    },
    {
      "cell_type": "code",
      "metadata": {
        "id": "a2-lCJyTMDQ3",
        "colab_type": "code",
        "colab": {
          "base_uri": "https://localhost:8080/",
          "height": 34
        },
        "outputId": "b3184cf9-3225-44e6-bea1-062d5d8664e9"
      },
      "source": [
        "df['text_clean'] = df['tweet_text'].apply(lambda x: cleanTweet(x))\n",
        "df['ad_manual_adjusted'] = df['ad_manual_adjusted'].apply(lambda x: x.lower())\n",
        "df['ad_related'] = df['ad_manual_adjusted'].apply(lambda x: 0 if x == 'none' else 1)\n",
        "\n",
        "filter_comma_ads = True\n",
        "if filter_comma_ads:\n",
        "  df = df[~df['ad_manual_adjusted'].str.contains(\",\")]\n",
        "print(df.shape)"
      ],
      "execution_count": 8,
      "outputs": [
        {
          "output_type": "stream",
          "text": [
            "(7344, 21)\n"
          ],
          "name": "stdout"
        }
      ]
    },
    {
      "cell_type": "code",
      "metadata": {
        "id": "nSy9r0M1MHkh",
        "colab_type": "code",
        "colab": {
          "base_uri": "https://localhost:8080/",
          "height": 428
        },
        "outputId": "66623993-e90f-4cdd-ca4c-e2d01137ce04"
      },
      "source": [
        "def get_ad_related_twts(df, removeCommas = True):\n",
        "  df['ad_manual_adjusted'] = df['ad_manual_adjusted'].apply(lambda x: x.lower())\n",
        "  ad_filter = df['ad_manual_adjusted']!= 'none'\n",
        "  ad_related_twts = df[ad_filter]\n",
        "  if removeCommas:\n",
        "    ad_filter_1 = ~ad_related_twts['ad_manual_adjusted'].str.contains(',')\n",
        "    ad_related_twts = ad_related_twts[ad_filter_1]\n",
        "  return ad_related_twts\n",
        "\n",
        "def getAdTweets(ad_related_twts, ad):\n",
        "  return ad_related_twts[ad_related_twts.ad_manual_adjusted == ad].shape[0]\n",
        "\n",
        "def get_ad_id_dict(ad_related_twts): \n",
        "  n_ad_related = ad_related_twts.shape[0]\n",
        "  print(\"# ad related tweets: \"+ str(n_ad_related))\n",
        "  ads_annotated = ad_related_twts.ad_manual_adjusted.values\n",
        "  adset = set(ads_annotated)\n",
        "  print(\"unique ads:\"+ str(len(adset)))\n",
        "  ad_id_dict = {}\n",
        "  i = 0\n",
        "  for ad in adset : \n",
        "    if(getAdTweets(ad_related_twts, ad) >=2):\n",
        "      ad_id_dict[ad] = i\n",
        "      i = i+1\n",
        "    else:\n",
        "      print('ad with <2 samples: '+ str(ad))\n",
        "  print(\" No of ads with >=2 samples:\"+ str(len(ad_id_dict)))\n",
        "  ad_id_dict['none'] = len(ad_id_dict)\n",
        "  print(ad_id_dict)\n",
        "  return ad_id_dict\n",
        "\n",
        "def convertAdNameToAdId(ad_id_dict, ad_name):\n",
        "  if ad_name in ad_id_dict:\n",
        "    return ad_id_dict[ad_name]\n",
        "  else:\n",
        "    return ad_id_dict['none']\n",
        "\n",
        "ad_related_twts = get_ad_related_twts(df)\n",
        "\n",
        "ad_id_dict = get_ad_id_dict(get_ad_related_twts(df))\n",
        "ad_id_dict_len = len(ad_id_dict)\n",
        "ad_id_dict['none'] = ad_id_dict_len\n",
        "n_unique_ads = len(ad_id_dict)\n",
        "df['ad_manual_adjusted_id'] = df['ad_manual_adjusted'].apply(lambda x: convertAdNameToAdId(ad_id_dict,x))\n"
      ],
      "execution_count": 9,
      "outputs": [
        {
          "output_type": "stream",
          "text": [
            "# ad related tweets: 3241\n",
            "unique ads:80\n",
            "ad with <2 samples: golden gronks\n",
            "ad with <2 samples: secret\n",
            "ad with <2 samples: ram trucks\n",
            "ad with <2 samples: fox  halftime show  teaser_3\n",
            "ad with <2 samples: ragged old flag\n",
            "ad with <2 samples: tide  ww\n",
            "ad with <2 samples: disney mulan\n",
            "ad with <2 samples: discover card  no we don‚äôt charge annual fees\n",
            "ad with <2 samples: patience\n",
            "ad with <2 samples: bush's best\n",
            "ad with <2 samples: budweiser typical american\n",
            "ad with <2 samples: papa johns\n",
            "ad with <2 samples: dashlane\n",
            "ad with <2 samples: doritos the cool ranch\n",
            "ad with <2 samples: discover card  yes we're accepted\n",
            "ad with <2 samples: guitar hero\n",
            "ad with <2 samples: bernie the peoples perfume\n",
            "ad with <2 samples: fast & furious 9  trailer\n",
            "ad with <2 samples: bakari\n",
            " No of ads with >=2 samples:61\n",
            "{'fox  halftime show  teaser_1': 0, 'donald j. trump for president  criminal justice reform': 1, 'amazon echo  before alexa': 2, 'snickers  fix the world': 3, 'google assistant  loretta': 4, 'jeep  groundhog day [t1]': 5, 'fox  chosen  lego masters': 6, 'audi  let it go [t1]': 7, 'quibi  bank heist': 8, 'pepsi zero sugar  zero sugar. done right.': 9, 'facebook  ready to rock?': 10, 'hard rock hotels & casinos  bling cup': 11, 'doritos  the cool ranch': 12, 'hummer  gmc  quiet revolution': 13, 'bud light seltzer  posty store  inside post s brain': 14, 'little caesars pizza  best thing since sliced bread': 15, 'disney+  it s time': 16, 'mountain dew': 17, 'genesis  going away party': 18, 'sabra  how do you  mmus?': 19, 'cheetos  can t touch this': 20, 'kia  tough never quits': 21, 'fox  super monday': 22, 'pringles  the infinite dimensions of rick and morty': 23, 'coca-cola energy  show up': 24, 'hyundai  smaht pahk': 25, 'michelob  jimmy works it out': 26, 'budweiser  typical american': 27, 'olay  make space for women': 28, 'new york life  love takes action': 29, 'fox  halftime show  teaser_2': 30, 'reese s  rock': 31, 'verizon  the amazing things 5g won t do': 32, 'rocket mortgage  home': 33, 'tide  finally later': 34, 't-mobile  mama tests 5g': 35, 'turbotax  turbotax  all people are tax people remix': 36, 'fox  toads  the masked singer': 37, 'pop-tarts  pop-tarts fixed the pretzel commercial': 38, 'fox nation  breaking news': 39, 'hulu  tom brady s big announcement': 40, 'fox  a run at history  daytona 500': 41, 'squarespace  winona in winona': 42, 'procter & gamble  when we come together': 43, 'nfl  building a better game': 44, 'nfl  inspire change  anquan boldin': 45, 'walmart  famous visitors': 46, 'discover card  yes we’re accepted': 47, 'avocados from mexico  the avocados from mexico shopping network': 48, 'weathertech  lucky dog': 49, 'no time to die  trailer': 50, 'porsche  the heist': 51, 'marvel  black widow trailer': 52, 'heinz ketchup  find the goodness  four at once': 53, 'planters  baby funeral': 54, 'microsoft surface  be the one': 55, 'michelob  6 for 6-pack': 56, 'tide  bud knight': 57, 'amazon prime video  hunters': 58, 'fox  great american race': 59, 'toyota  heroes': 60, 'none': 61}\n"
          ],
          "name": "stdout"
        }
      ]
    },
    {
      "cell_type": "code",
      "metadata": {
        "id": "uk9VMLrTMLtH",
        "colab_type": "code",
        "colab": {
          "base_uri": "https://localhost:8080/",
          "height": 102
        },
        "outputId": "85db0bb2-0207-434e-de3e-d19a6a2cef81"
      },
      "source": [
        "from sklearn.model_selection import train_test_split\n",
        "\n",
        "# returns df with text_clean, ad column labelled as 0 0r 1\n",
        "def get_bin_samples(df, colName, colVal):\n",
        "  samples = pd.DataFrame()\n",
        "  samples[colVal] = df[colName].apply(lambda ad: 1 if ad == colVal else 0)\n",
        "  samples['text_clean'] = df['text_clean']\n",
        "  return samples\n",
        "\n",
        "# gives 50% negative ad samples, 50% positve ad samples\n",
        "def get_ad_specific_sample_50_50(ad_labels):\n",
        "  ad_positive_samples = ad_labels[ad_labels[ad] == 1]\n",
        "  print(ad_positive_samples.shape)\n",
        "  ad_negative_samples = ad_labels[ad_labels[ad] == 0]\n",
        "  print(ad_negative_samples.shape)\n",
        "  ad_sample = pd.DataFrame()\n",
        "\n",
        "  if ad_positive_samples.shape[0]<= ad_negative_samples.shape[0]:\n",
        "    ad_sample = pd.concat([ad_positive_samples, ad_negative_samples.iloc[0: ad_positive_samples.shape[0]]])\n",
        "  else:\n",
        "    ad_sample = pd.concat([ad_negative_samples, ad_positive_samples.iloc[0: ad_negative_samples.shape[0]]]) \n",
        "  print(ad_sample.shape)\n",
        "  return ad_sample\n",
        "\n",
        "def load_ad_annotations():\n",
        "  ad_keywords = pd.read_csv('./SB_ad_annotations.csv')\n",
        "  print(ad_keywords.columns)\n",
        "  ad_keywords['keywords_clean'] = ad_keywords['Key Terms  Round 1'].apply(lambda x: x.lower()).apply(lambda x: cleanTweet(x))\n",
        "  ad_keywords['Ad Name'] = ad_keywords['Ad Name'].apply(lambda x: x.lower())\n",
        "  return ad_keywords\n",
        "\n",
        "ad_keywords = load_ad_annotations()"
      ],
      "execution_count": 10,
      "outputs": [
        {
          "output_type": "stream",
          "text": [
            "Index(['Ad Number', 'Brand Name', 'Ad Name', 'Product', 'Key Terms  Round 1',\n",
            "       'KeyTerms_Edited_1', 'KeyTerms_Edited', 'Excitatory Potential',\n",
            "       'Emotional vs. Rational', 'Semantic Affinity', 'Valence', 'Unnamed: 11',\n",
            "       'Unnamed: 12', 'Unnamed: 13'],\n",
            "      dtype='object')\n"
          ],
          "name": "stdout"
        }
      ]
    },
    {
      "cell_type": "markdown",
      "metadata": {
        "id": "Cc66Ycw3M9G5",
        "colab_type": "text"
      },
      "source": [
        "Extract Embeddings, construct Siamese Network as mentioned in Sentence BERT to compute sentence similarity\n",
        "Ref: https://github.com/prabhnoor0212/Siamese-Network-Text-Similarity/blob/master/quora_siamese.ipynb https://medium.com/@prabhnoor0212/siamese-network-keras-31a3a8f37d04\n",
        "https://www.inovex.de/blog/transfer-learning-siamese-networks/\n"
      ]
    },
    {
      "cell_type": "code",
      "metadata": {
        "id": "grolUQUzDXyM",
        "colab_type": "code",
        "colab": {}
      },
      "source": [
        "from keras import backend as K\n",
        "\n",
        "def cosine_distance(vests):\n",
        "    x, y = vests\n",
        "    x = K.l2_normalize(x, axis=-1)\n",
        "    y = K.l2_normalize(y, axis=-1)\n",
        "    return -K.mean(x * y, axis=-1, keepdims=True)\n",
        "\n",
        "def cos_dist_output_shape(shapes):\n",
        "    shape1, shape2 = shapes\n",
        "    return (shape1[0],1)"
      ],
      "execution_count": 11,
      "outputs": []
    },
    {
      "cell_type": "code",
      "metadata": {
        "id": "zynQZeBGDbLn",
        "colab_type": "code",
        "colab": {}
      },
      "source": [
        "from transformers import BertForSequenceClassification, AdamW, BertConfig, BertModel\n",
        "# Load BertForSequenceClassification, the pretrained BERT model with a single linear classification layer on top. \n",
        "model = BertForSequenceClassification.from_pretrained(\n",
        "    \"bert-base-uncased\", # Use the 12-layer BERT model, with an uncased vocab.\n",
        "    num_labels = n_unique_ads, # The number of output labels=2 for binary classification.\n",
        "    output_attentions = False, # Whether the model returns attentions weights.\n",
        "    output_hidden_states = False, # Whether the model returns all hidden-states.\n",
        ")\n",
        "# embeddings = model.get_input_embeddings()\n",
        "# pretrain_embeddings = embeddings.weight.cpu().detach().numpy()\n",
        "model.cuda()"
      ],
      "execution_count": null,
      "outputs": []
    },
    {
      "cell_type": "code",
      "metadata": {
        "id": "x_0MK79_DyuZ",
        "colab_type": "code",
        "colab": {
          "base_uri": "https://localhost:8080/",
          "height": 51
        },
        "outputId": "ac587a66-0ed5-47a8-adcf-411e84c611b3"
      },
      "source": [
        "embedding_layer = model.get_input_embeddings()\n",
        "print(embedding_layer)\n",
        "pretrain_embeddings = embedding_layer.weight.cpu().detach().numpy()\n",
        "print(pretrain_embeddings.shape)"
      ],
      "execution_count": 13,
      "outputs": [
        {
          "output_type": "stream",
          "text": [
            "Embedding(30522, 768, padding_idx=0)\n",
            "(30522, 768)\n"
          ],
          "name": "stdout"
        }
      ]
    },
    {
      "cell_type": "code",
      "metadata": {
        "id": "9kbhyUs8D-st",
        "colab_type": "code",
        "colab": {}
      },
      "source": [
        "from keras.layers import LSTM\n",
        "\n",
        "from keras.layers import Input, Concatenate, Flatten, Dense, Embedding, LSTM\n",
        "from keras.models import Model\n",
        "from keras.layers import Multiply, Dropout, Subtract\n",
        "from keras.layers.core import Lambda\n",
        "from keras.optimizers import Adam\n",
        "\n",
        "# def get_lstm_model(input_sequences_1, input_sequences_2, embeddings, length_long_sentence =45):\n",
        "def get_lstm_model(embeddings, length_long_sentence =45):\n",
        "\n",
        "  #  input_1 and input_2 are pre-processed, Keras-tokenized text sequences which are to be compared\n",
        "  # input_1 = Input(shape=(input_sequences_1.shape[1],))\n",
        "  # input_2 = Input(shape=(input_sequences_2.shape[1],))\n",
        "  input_1 = Input(shape=(length_long_sentence,))\n",
        "  input_2 = Input(shape=(length_long_sentence,))\n",
        "  # length_long_sentence = 45\n",
        "  common_embed = Embedding(embeddings.shape[0], embeddings.shape[1], \n",
        "                                    weights = [embeddings], \n",
        "                                    input_length = length_long_sentence, trainable = False)\n",
        "  lstm_1 = common_embed(input_1)\n",
        "  lstm_2 = common_embed(input_2)\n",
        "\n",
        "  common_lstm = LSTM(32, return_sequences = True, activation = 'relu')\n",
        "\n",
        "  vector_1 = common_lstm(lstm_1)\n",
        "  vector_1 = Flatten()(vector_1)\n",
        "\n",
        "  vector_2 = common_lstm(lstm_2)\n",
        "  vector_2 = Flatten()(vector_2)\n",
        "\n",
        "  # difference of vectors\n",
        "  x3 = Subtract()([vector_1, vector_2])\n",
        "\n",
        "  x3 = Multiply()([x3, x3])\n",
        "\n",
        "  x1_ = Multiply()([vector_1, vector_1])\n",
        "  x2_ = Multiply()([vector_2, vector_2])\n",
        "\n",
        "  # difference of squares\n",
        "  x4 = Subtract()([x1_, x2_])\n",
        "  \n",
        "  # Lambda Layer to apply i.e cosine distance function before processing inputs\n",
        "  x5 = Lambda(cosine_distance, output_shape = cos_dist_output_shape)([vector_1, vector_2])\n",
        "\n",
        "  #concatnating, x^2-y^2, cosine(x,y), (x-y)^2\n",
        "  #conc = Concatenate(axis=-1)([x5, x4, x3])\n",
        "\n",
        "  conc = Concatenate(axis=-1)([vector_1, vector_2, x3])",
        "  x = Dense(100, activation=\"relu\", name='conc_layer')(conc)\n",
        "  # x = Dense(100, activation=\"relu\", name='conc_layer')(x3) # only using (x-y)^2 gave poor results\n",
        "  x = Dropout(0.01)(x)\n",
        "  out = Dense(1, activation=\"sigmoid\", name = 'out')(x)\n",
        "\n",
        "  lstm_model = Model([input_1, input_2], out)\n",
        "  #binary cross entropy loss since multiple classes\n",
        "  lstm_model.compile(loss=\"binary_crossentropy\", metrics=['acc'], optimizer=Adam(0.00001))\n",
        "  return lstm_model"
      ],
      "execution_count": 14,
      "outputs": []
    },
    {
      "cell_type": "code",
      "metadata": {
        "id": "PPso_K3JEU8Q",
        "colab_type": "code",
        "colab": {}
      },
      "source": [
        "from sklearn.metrics import f1_score, precision_score, recall_score, accuracy_score, classification_report, confusion_matrix\n",
        "\n",
        "def get_binary_pred_labels(predictions):\n",
        "  pred_labels = []\n",
        "  for pred in predictions:\n",
        "    if pred[0]>=0.5 :\n",
        "      pred_labels.append(1)\n",
        "    else:\n",
        "      pred_labels.append(0)\n",
        "  return pred_labels\n",
        "\n",
        "def get_binary_metrics(test_binary_labels, pred_labels, averageType = 'binary'):\n",
        "  print(\"Evaluating metrics as per '\"+averageType+\"' average type\")\n",
        "\n",
        "  f1score = f1_score(test_binary_labels, pred_labels, average= averageType) # micro: Calculate metrics globally by counting the total true positives, false negatives and false positives.\n",
        "  print('f1_score:'+ str(f1score))\n",
        "\n",
        "  prec = precision_score(test_binary_labels, pred_labels, average= averageType)\n",
        "  print('Precision:'+ str(prec))\n",
        "\n",
        "  acc = accuracy_score(test_binary_labels, pred_labels)\n",
        "  print(\"Accuracy: \"+ str(acc))\n",
        "\n",
        "  recall = recall_score(test_binary_labels, pred_labels, average= averageType)\n",
        "  print(\"recall: \"+ str(recall))\n",
        "\n",
        "  confusionmatrix = confusion_matrix(test_binary_labels, pred_labels)\n",
        "  if averageType == 'binary': \n",
        "    tn, fp, fn, tp = confusionmatrix.ravel()\n",
        "    print(\"tp: \"+ str(tp)+\" tn: \"+ str(tn)+\" fp: \"+ str(fp)+\" fn: \"+ str(fn))\n",
        "    return f1score, prec, acc, recall, confusionmatrix, tp, tn, fp, fn\n",
        "  else:\n",
        "    return f1score, prec, acc, recall, confusionmatrix\n",
        "# classification_report(true_labels_flat, pred_labels)\n"
      ],
      "execution_count": 15,
      "outputs": []
    },
    {
      "cell_type": "code",
      "metadata": {
        "id": "3k42y89aMU-f",
        "colab_type": "code",
        "colab": {}
      },
      "source": [
        "def get_adkeys_train_test_val(ad, ad_keywords, total_sample_size):\n",
        "\n",
        "  ad_keys = ad_keywords[ad_keywords['Ad Name'] == ad]['keywords_clean']\n",
        "\n",
        "  # replicate ad keys to size of tweet sample so that cn be fed to the siamese network \n",
        "  ad_keys_replicated = ad_keys\n",
        "\n",
        "  for i in range(total_sample_size-1):\n",
        "    ad_keys_replicated = ad_keys_replicated.append(ad_keys)\n",
        "  \n",
        "  ad_padded_sentences = get_padded_Sentences(ad_keys_replicated, tokenizer, length_long_sentence = 45)\n",
        "  ad_padded_train, ad_padded_test, _, _ = train_test_split(ad_padded_sentences, ad_padded_sentences,\n",
        "                                              test_size=0.2, random_state=42)\n",
        "\n",
        "  ad_padded_train, ad_padded_val, _, _ = train_test_split(ad_padded_train, ad_padded_train,\n",
        "                                              test_size=0.2, random_state=42)\n",
        "\n",
        "  return ad_padded_train, ad_padded_test, ad_padded_val"
      ],
      "execution_count": 17,
      "outputs": []
    },
    {
      "cell_type": "code",
      "metadata": {
        "id": "hUzIXZoj_HVq",
        "colab_type": "code",
        "colab": {}
      },
      "source": [
        "import itertools\n",
        "from random import sample\n",
        "twt_train, twt_test, label_train, label_test = train_test_split(df['text_clean'], \n",
        "                                                      df['ad_manual_adjusted'], test_size=0.2, random_state=42)\n",
        "\n",
        "train_set = pd.DataFrame()\n",
        "train_set['text_clean'] = twt_train\n",
        "train_set['ad_manual_adjusted'] = label_train\n",
        "\n",
        "tweets_left = []\n",
        "tweets_right = []\n",
        "target = []\n",
        "\n",
        "ads = list(ad_id_dict.keys())\n",
        "\n",
        "for ad in ads:\n",
        "    # 1) create pairs of tweets talking about same ad, with a corresponding target of 1\n",
        "    similar_tweets = train_set[train_set['ad_manual_adjusted'] == ad]['text_clean']\n",
        "    similar_ad = ad_keywords[ad_keywords['Ad Name'] == ad]['keywords_clean'].values\n",
        "\n",
        "    # Pick 1000 random pairs from the tweet combinations \n",
        "    group_pairs = list(itertools.combinations(similar_tweets, 2)) \n",
        "    positive_pairs = sample(group_pairs, 1000) if len(group_pairs) > 1000 else group_pairs\n",
        "    tweets_left.extend([p[0] for p in positive_pairs])\n",
        "    tweets_right.extend([p[1] for p in positive_pairs])\n",
        "    # tweets_right.extend([similar_ad[0] for ind in positive_pairs])\n",
        "    target.extend([1]*len(positive_pairs))\n",
        "    \n",
        "    # 2) create pairs of examples with tweets of different ads, with a target set to 0\n",
        "    other_tweets = train_set[train_set['ad_manual_adjusted'] != ad]['text_clean']\n",
        "    other_ads = ad_keywords[ad_keywords['Ad Name'] != ad]['keywords_clean']\n",
        "    for i in range(len(positive_pairs)):\n",
        "        tweets_left.append(np.random.choice(similar_tweets))\n",
        "        tweets_right.append(np.random.choice(other_tweets))\n",
        "        # tweets_right.append(np.random.choice(other_ads))\n",
        "        target.append(0)\n",
        "\n",
        "dataset = pd.DataFrame({\n",
        "        'tweets_left': tweets_left,\n",
        "        'tweets_right': tweets_right,\n",
        "        'target': target\n",
        "    }).sample(frac=1)  # Shuffle dataset\n",
        "print(dataset.shape)\n",
        "dataset.tail(100)"
      ],
      "execution_count": null,
      "outputs": []
    },
    {
      "cell_type": "code",
      "metadata": {
        "id": "fafcWqO14bpN",
        "colab_type": "code",
        "colab": {}
      },
      "source": [
        "dataset.to_csv('./siamese_train_dataset.csv')"
      ],
      "execution_count": 19,
      "outputs": []
    },
    {
      "cell_type": "code",
      "metadata": {
        "id": "ZDzRLXflibmZ",
        "colab_type": "code",
        "colab": {}
      },
      "source": [
        "# pad and tokenize input tweets\n",
        "tweets_left_padded = get_padded_Sentences(dataset['tweets_left'], tokenizer, length_long_sentence = 45)"
      ],
      "execution_count": 20,
      "outputs": []
    },
    {
      "cell_type": "code",
      "metadata": {
        "id": "u1WcsxmThgJe",
        "colab_type": "code",
        "colab": {}
      },
      "source": [
        "tweets_right_padded = get_padded_Sentences(dataset['tweets_right'], tokenizer, length_long_sentence = 45)"
      ],
      "execution_count": 21,
      "outputs": []
    },
    {
      "cell_type": "code",
      "metadata": {
        "id": "1Z4x-uxdhmFb",
        "colab_type": "code",
        "colab": {
          "base_uri": "https://localhost:8080/",
          "height": 275
        },
        "outputId": "3a7d138c-51b0-4cb0-d7a1-5b82d84a78d5"
      },
      "source": [
        "print(dataset.shape)\n",
        "x_pairs = [tweets_left_padded, tweets_right_padded]   # this will be the input of the siamese network\n",
        "y = dataset['target'].values\n",
        "print(len(y))\n",
        "length_long_sentence = 45\n",
        "lstm_model_1 = get_lstm_model(pretrain_embeddings, 45)\n",
        "lstm_model_1.fit(x_pairs,\n",
        "                 y, \n",
        "                 epochs = 5,\n",
        "                 batch_size= 32\n",
        "                ,validation_split=0.1\n",
        "                 )"
      ],
      "execution_count": 22,
      "outputs": [
        {
          "output_type": "stream",
          "text": [
            "(47370, 3)\n",
            "47370\n",
            "WARNING:tensorflow:Layer lstm will not use cuDNN kernel since it doesn't meet the cuDNN kernel criteria. It will use generic GPU kernel as fallback when running on GPU\n",
            "Epoch 1/5\n",
            "1333/1333 [==============================] - 180s 135ms/step - loss: 0.6901 - acc: 0.5393 - val_loss: 0.6819 - val_acc: 0.5598\n",
            "Epoch 2/5\n",
            "1333/1333 [==============================] - 184s 138ms/step - loss: 0.6790 - acc: 0.5688 - val_loss: 0.6604 - val_acc: 0.5972\n",
            "Epoch 3/5\n",
            "1333/1333 [==============================] - 179s 134ms/step - loss: 0.6314 - acc: 0.6345 - val_loss: 0.6171 - val_acc: 0.6586\n",
            "Epoch 4/5\n",
            "1333/1333 [==============================] - 181s 136ms/step - loss: 0.6063 - acc: 0.6665 - val_loss: 0.6000 - val_acc: 0.6734\n",
            "Epoch 5/5\n",
            "1333/1333 [==============================] - 182s 136ms/step - loss: 0.5898 - acc: 0.6838 - val_loss: 0.5837 - val_acc: 0.6935\n"
          ],
          "name": "stdout"
        },
        {
          "output_type": "execute_result",
          "data": {
            "text/plain": [
              "<tensorflow.python.keras.callbacks.History at 0x7fab6976e668>"
            ]
          },
          "metadata": {
            "tags": []
          },
          "execution_count": 22
        }
      ]
    },
    {
      "cell_type": "code",
      "metadata": {
        "id": "Z9IznEiXoElT",
        "colab_type": "code",
        "colab": {
          "base_uri": "https://localhost:8080/",
          "height": 34
        },
        "outputId": "173c3a79-a740-4454-c49c-3a878e874ce7"
      },
      "source": [
        "twt_test_padded = get_padded_Sentences(twt_test, tokenizer, length_long_sentence = 45)\n",
        "print(len(twt_test_padded))\n",
        "twt_train_padded = get_padded_Sentences(twt_train, tokenizer, length_long_sentence = 45)"
      ],
      "execution_count": 23,
      "outputs": [
        {
          "output_type": "stream",
          "text": [
            "1469\n"
          ],
          "name": "stdout"
        }
      ]
    },
    {
      "cell_type": "code",
      "metadata": {
        "id": "5LQf4EuKq7LV",
        "colab_type": "code",
        "colab": {}
      },
      "source": [
        "# ad_keys_padded = get_padded_Sentences(ad_keywords, tokenizer, length_long_sentence = 45 )\n"
      ],
      "execution_count": 24,
      "outputs": []
    },
    {
      "cell_type": "code",
      "metadata": {
        "id": "zovgoNLgr0Yu",
        "colab_type": "code",
        "colab": {
          "base_uri": "https://localhost:8080/",
          "height": 34
        },
        "outputId": "8e912917-7b67-4cd5-d1e9-e9fe760a3f99"
      },
      "source": [
        "def get_prediction(lstm_model_1, twt_test_padded, twt_train_padded):\n",
        "    \"\"\" Get the predicted ad category, and the most similar tweet\n",
        "    in the train set.\"\"\"\n",
        "    # Compute similarities of test tweet with all tweets in the train set\n",
        "    temp = np.array([twt_test_padded])\n",
        "    twt_test_replicated = np.tile(temp, (len(twt_train_padded),1)) # replicate test tweet to size of train data\n",
        "\n",
        "    similarities = lstm_model_1.predict([twt_test_replicated, twt_train_padded])\n",
        "    # print(similarities)\n",
        "    most_similar_index = np.argmax(similarities)\n",
        "    max_sim = similarities[most_similar_index]\n",
        "    \n",
        "    # The predicted ad is the one of the most similar example from the train set\n",
        "    prediction = train_set['ad_manual_adjusted'].iloc[most_similar_index]\n",
        "    most_similar_train_example = train_set['text_clean'].iloc[most_similar_index]\n",
        "    return prediction, most_similar_train_example, max_sim\n",
        "    # return pd.Series([prediction,most_similar_train_example,max_sim],index=['prediction','most_similar_train_example','max_sim'])\n",
        "    \n",
        "print(len(twt_train_padded))"
      ],
      "execution_count": 25,
      "outputs": [
        {
          "output_type": "stream",
          "text": [
            "5875\n"
          ],
          "name": "stdout"
        }
      ]
    },
    {
      "cell_type": "code",
      "metadata": {
        "id": "pHXyPWqCum-1",
        "colab_type": "code",
        "colab": {
          "base_uri": "https://localhost:8080/",
          "height": 1000
        },
        "outputId": "ba9ca35e-0d11-46a6-e260-70e778a2b4f7"
      },
      "source": [
        "predictions_siamese = []\n",
        "pred_most_sim_example = []\n",
        "pred_max_sim = []\n",
        "print(\"len of test samples: \"+ str(len(twt_test_padded)))\n",
        "# print(twt_test_df.shape)\n",
        "i =1\n",
        "for test_padded_sent in twt_test_padded:\n",
        "  print(i)\n",
        "  pred, most_sim_example, max_sim = get_prediction(lstm_model_1, test_padded_sent, twt_train_padded)\n",
        "  predictions_siamese.append(pred)\n",
        "  pred_most_sim_example.append(most_sim_example)\n",
        "  pred_max_sim.append(max_sim)\n",
        "  i = i+1\n"
      ],
      "execution_count": null,
      "outputs": [
        {
          "output_type": "stream",
          "text": [
            "len of test samples: 1469\n",
            "1\n",
            "2\n"
          ],
          "name": "stdout"
        }
      ]
    },
    {
      "cell_type": "code",
      "metadata": {
        "id": "F5CFXuX-pJS4",
        "colab_type": "code",
        "colab": {}
      },
      "source": [
        "# using 'weighted' averageType since multiple ads are present, if binary use avgType as 'binary'\n",
        "\n",
        "predictions_df = pd.DataFrame()\n",
        "predictions_df['text_clean'] = twt_test\n",
        "predictions_df['predictions'] = predictions_siamese\n",
        "predictions_df['most_sim_example'] = pred_most_sim_example\n",
        "predictions_df['max_sim'] = pred_max_sim\n",
        "predictions_df.to_csv('./predictions_siamese.csv')\n",
        "f1score, prec, acc, recall, conf_matrix = get_binary_metrics(label_test, predictions_siamese, 'weighted')\n"
      ],
      "execution_count": null,
      "outputs": []
    },
    {
      "cell_type": "markdown",
      "metadata": {
        "id": "A1p7sMCOWgO8",
        "colab_type": "text"
      },
      "source": [
        "##################### Siamese Network code ends here #######################"
      ]
    },
    {
      "cell_type": "code",
      "metadata": {
        "id": "_hhvTtnchSwl",
        "colab_type": "code",
        "colab": {}
      },
      "source": [
        "from keras import backend as K\n",
        "\n",
        "def cosine_distance(vests):\n",
        "    x, y = vests\n",
        "    x = K.l2_normalize(x, axis=-1)\n",
        "    y = K.l2_normalize(y, axis=-1)\n",
        "    return -K.mean(x * y, axis=-1, keepdims=True)\n",
        "\n",
        "def cos_dist_output_shape(shapes):\n",
        "    shape1, shape2 = shapes\n",
        "    return (shape1[0],1)"
      ],
      "execution_count": null,
      "outputs": []
    },
    {
      "cell_type": "code",
      "metadata": {
        "id": "a1OZyuavWmpN",
        "colab_type": "code",
        "colab": {}
      },
      "source": [
        "import os\n",
        "\n",
        "# Saving best-practices: if you use defaults names for the model, you can reload it using from_pretrained()\n",
        "\n",
        "output_dir = './model_save/'\n",
        "\n",
        "# Create output directory if needed\n",
        "if not os.path.exists(output_dir):\n",
        "    os.makedirs(output_dir)"
      ],
      "execution_count": null,
      "outputs": []
    },
    {
      "cell_type": "code",
      "metadata": {
        "id": "JcQyV1BmhSsK",
        "colab_type": "code",
        "colab": {}
      },
      "source": [
        "import pandas as pd\n",
        "import numpy as np\n",
        "\n",
        "res_cols = ['ad', 'ad_related_size', 'train_size', 'test_size', 'f1_score', 'precision', 'accuracy', 'recall' , 'tp', 'tn', 'fp' 'fn']\n",
        "# res_cols = ['ad', 'ad_related_size', 'train_size', 'test_size', 'f1_score', 'precision', 'accuracy', 'recall', 'tp', 'tn', 'fp', 'fn' ]\n",
        "siamese_results = pd.DataFrame(columns = res_cols )\n",
        "ads = []\n",
        "ad_related_sizes = []\n",
        "train_sizes = []\n",
        "test_sizes = []\n",
        "f1_scores = []\n",
        "precisions = []\n",
        "accuracies = []\n",
        "recalls = []\n",
        "tps = []\n",
        "tns = []\n",
        "fps = []\n",
        "fns = []\n",
        "\n",
        "ads_list = list(ad_id_dict.keys())\n",
        "ads_list.remove('none')\n",
        "for ad in ads_list:\n",
        "  train_tweets_padded, test_tweets_padded, val_tweets_padded, label_train, label_test, label_val, total_sample_size= get_tweets_train_test_val(df, ad)\n",
        "  if total_sample_size<= 25:\n",
        "    continue\n",
        "  ad_padded_train, ad_padded_test, ad_padded_val = get_adkeys_train_test_val(ad, ad_keywords, total_sample_size)\n",
        "\n",
        "  lstm_model = get_lstm_model(train_tweets_padded, ad_padded_train, pretrain_embeddings)\n",
        "  lstm_model.fit([train_tweets_padded, ad_padded_train],\n",
        "                  label_train, epochs = 5,\n",
        "                  batch_size=32, \n",
        "                  validation_data=([val_tweets_padded, ad_padded_val],\n",
        "                            label_val))\n",
        "  predictions_siamese = lstm_model.predict([test_tweets_padded, ad_padded_test])\n",
        "  pred_labels_siamese = get_binary_pred_labels(predictions_siamese)\n",
        "  \n",
        "  train_size = ad_padded_train.shape[0]\n",
        "  test_size = ad_padded_test.shape[0]\n",
        "  ad_related_size = train_size + test_size + val_tweets_padded.shape[0]\n",
        "\n",
        "  # Save a trained model, configuration and tokenizer using `save_pretrained()`. # They can then be reloaded using `from_pretrained()`\n",
        "  model_to_save = model.module if hasattr(model, 'module') else model  # Take care of distributed/parallel training\n",
        "  temp_output_dir = output_dir+\"/\"+ ad+\"/\"\n",
        "  if not os.path.exists(temp_output_dir):\n",
        "    os.makedirs(temp_output_dir)\n",
        "  model_to_save.save_pretrained(temp_output_dir)\n",
        "\n",
        "  f1score, prec, acc, recall, _, tp, tn, fp, fn = get_binary_metrics(label_test, pred_labels_siamese)\n",
        "  # data = np.array([ad, ad_related_size, train_size, test_size, f1score,prec, acc,recall])\n",
        "  # curr_result = pd.Series( data, index = res_cols)\n",
        "  # siamese_results = siamese_results.append(curr_result, ignore_index=True)\n",
        "  ads.append(ad)\n",
        "  ad_related_sizes.append(ad_related_size)\n",
        "  train_sizes.append(train_size)\n",
        "  test_sizes.append(test_size)\n",
        "  f1_scores.append(f1score)\n",
        "  precisions.append(prec)\n",
        "  accuracies.append(acc)\n",
        "  recalls.append(recall)\n",
        "  tps.append(tp)\n",
        "  tns.append(tn)\n",
        "  fps.append(fp)\n",
        "  fns.append(fn)\n",
        "\n",
        "siamese_results['ad'] = ads\n",
        "siamese_results['ad_related_size'] = ad_related_sizes\n",
        "siamese_results['train_size'] = train_sizes\n",
        "siamese_results['test_size'] = test_sizes\n",
        "siamese_results['f1_score'] = f1_scores\n",
        "siamese_results['precision'] = precisions\n",
        "siamese_results['accuracy'] = accuracies\n",
        "siamese_results['recall'] = recalls\n",
        "siamese_results['tp'] = tps\n",
        "siamese_results['tn'] = tns\n",
        "siamese_results['fp'] = fps\n",
        "siamese_results['fn'] = fns\n",
        "\n",
        "siamese_results.head(5)"
      ],
      "execution_count": null,
      "outputs": []
    },
    {
      "cell_type": "code",
      "metadata": {
        "id": "6F1PBCg0pD1Q",
        "colab_type": "code",
        "colab": {}
      },
      "source": [
        "siamese_results.to_csv('./siamese_results.csv')"
      ],
      "execution_count": null,
      "outputs": []
    }

  ]
}
