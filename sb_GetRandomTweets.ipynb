{
 "cells": [
  {
   "cell_type": "code",
   "execution_count": 1,
   "metadata": {},
   "outputs": [],
   "source": [
    "import pandas as pd\n",
    "import numpy as np"
   ]
  },
  {
   "cell_type": "code",
   "execution_count": 2,
   "metadata": {},
   "outputs": [
    {
     "name": "stdout",
     "output_type": "stream",
     "text": [
      "7500\n"
     ]
    }
   ],
   "source": [
    "used_randInts = pd.read_csv('/Users/vcroopana/Downloads/summer2020/superbowl/randList_2_5_K.csv')\n",
    "used_randInts = list(used_randInts['random'])\n",
    "\n",
    "used_randInts_2 = pd.read_csv('/Users/vcroopana/Downloads/summer2020/superbowl/2_randList_2_5_K.csv')\n",
    "used_randInts_2 = list(used_randInts_2['random'])\n",
    "used_randInts.extend(used_randInts_2)\n",
    "\n",
    "used_randInts_3 = pd.read_csv('/Users/vcroopana/Downloads/summer2020/superbowl/3_randList_2_5_K.csv')\n",
    "used_randInts_3 = list(used_randInts_3['random'])\n",
    "used_randInts.extend(used_randInts_3)\n",
    "\n",
    "print(len(used_randInts))\n"
   ]
  },
  {
   "cell_type": "code",
   "execution_count": 4,
   "metadata": {},
   "outputs": [
    {
     "data": {
      "text/plain": [
       "(111651, 22)"
      ]
     },
     "execution_count": 4,
     "metadata": {},
     "output_type": "execute_result"
    }
   ],
   "source": [
    "onelakh_tweets = pd.read_csv('/Users/vcroopana/Downloads/summer2020/superbowl/ip/SB2020_tweets_affectivestate.csv')\n",
    "onelakh_tweets.shape\n",
    "# onelakh_tweets = pd.read_csv('/Users/vcroopana/Downloads/summer2020/superbowl/ip/affectivestate.csv')\n",
    "# onelakh_tweets.shape\n"
   ]
  },
  {
   "cell_type": "code",
   "execution_count": 4,
   "metadata": {},
   "outputs": [
    {
     "data": {
      "text/html": [
       "<div>\n",
       "<style scoped>\n",
       "    .dataframe tbody tr th:only-of-type {\n",
       "        vertical-align: middle;\n",
       "    }\n",
       "\n",
       "    .dataframe tbody tr th {\n",
       "        vertical-align: top;\n",
       "    }\n",
       "\n",
       "    .dataframe thead th {\n",
       "        text-align: right;\n",
       "    }\n",
       "</style>\n",
       "<table border=\"1\" class=\"dataframe\">\n",
       "  <thead>\n",
       "    <tr style=\"text-align: right;\">\n",
       "      <th></th>\n",
       "      <th>user_id</th>\n",
       "      <th>tweet_id</th>\n",
       "      <th>tweet_text</th>\n",
       "      <th>ad_mentioned</th>\n",
       "      <th>time_of_tweet</th>\n",
       "      <th>user_location</th>\n",
       "      <th>team followed</th>\n",
       "      <th>affective_state</th>\n",
       "    </tr>\n",
       "  </thead>\n",
       "  <tbody>\n",
       "    <tr>\n",
       "      <th>81579</th>\n",
       "      <td>163339185.0</td>\n",
       "      <td>1.224182e+18</td>\n",
       "      <td>RT @TheRickWilson: That thing when you spend m...</td>\n",
       "      <td>homeland  trailer</td>\n",
       "      <td>Mon Feb 03 04:04:46 +0000 2020</td>\n",
       "      <td>NaN</td>\n",
       "      <td>team_49ers</td>\n",
       "      <td>1</td>\n",
       "    </tr>\n",
       "  </tbody>\n",
       "</table>\n",
       "</div>"
      ],
      "text/plain": [
       "           user_id      tweet_id  \\\n",
       "81579  163339185.0  1.224182e+18   \n",
       "\n",
       "                                              tweet_text       ad_mentioned  \\\n",
       "81579  RT @TheRickWilson: That thing when you spend m...  homeland  trailer   \n",
       "\n",
       "                        time_of_tweet user_location team followed  \\\n",
       "81579  Mon Feb 03 04:04:46 +0000 2020           NaN    team_49ers   \n",
       "\n",
       "       affective_state  \n",
       "81579                1  "
      ]
     },
     "execution_count": 4,
     "metadata": {},
     "output_type": "execute_result"
    }
   ],
   "source": [
    "onelakh_tweets.iloc[81579: 81580]"
   ]
  },
  {
   "cell_type": "code",
   "execution_count": 6,
   "metadata": {},
   "outputs": [
    {
     "name": "stdout",
     "output_type": "stream",
     "text": [
      "(111651, 22)\n"
     ]
    },
    {
     "data": {
      "text/html": [
       "<div>\n",
       "<style scoped>\n",
       "    .dataframe tbody tr th:only-of-type {\n",
       "        vertical-align: middle;\n",
       "    }\n",
       "\n",
       "    .dataframe tbody tr th {\n",
       "        vertical-align: top;\n",
       "    }\n",
       "\n",
       "    .dataframe thead th {\n",
       "        text-align: right;\n",
       "    }\n",
       "</style>\n",
       "<table border=\"1\" class=\"dataframe\">\n",
       "  <thead>\n",
       "    <tr style=\"text-align: right;\">\n",
       "      <th></th>\n",
       "      <th>user_id</th>\n",
       "      <th>tweet_id</th>\n",
       "      <th>tweet_text</th>\n",
       "      <th>Ad_Name</th>\n",
       "      <th>Description_words</th>\n",
       "    </tr>\n",
       "  </thead>\n",
       "  <tbody>\n",
       "    <tr>\n",
       "      <th>0</th>\n",
       "      <td>1.000070e+18</td>\n",
       "      <td>1224205226464290000</td>\n",
       "      <td>RT @Ykillz15: 9er fans already on a mission to...</td>\n",
       "      <td>nfl  building a better game</td>\n",
       "      <td>amazon, building, game, services, nfl, charita...</td>\n",
       "    </tr>\n",
       "    <tr>\n",
       "      <th>1</th>\n",
       "      <td>1.000226e+09</td>\n",
       "      <td>1224155949461620000</td>\n",
       "      <td>49ers are the whiniest team in NFL history</td>\n",
       "      <td>nfl  building a better game</td>\n",
       "      <td>amazon, building, game, services, nfl, charita...</td>\n",
       "    </tr>\n",
       "  </tbody>\n",
       "</table>\n",
       "</div>"
      ],
      "text/plain": [
       "        user_id             tweet_id  \\\n",
       "0  1.000070e+18  1224205226464290000   \n",
       "1  1.000226e+09  1224155949461620000   \n",
       "\n",
       "                                          tweet_text  \\\n",
       "0  RT @Ykillz15: 9er fans already on a mission to...   \n",
       "1         49ers are the whiniest team in NFL history   \n",
       "\n",
       "                       Ad_Name  \\\n",
       "0  nfl  building a better game   \n",
       "1  nfl  building a better game   \n",
       "\n",
       "                                   Description_words  \n",
       "0  amazon, building, game, services, nfl, charita...  \n",
       "1  amazon, building, game, services, nfl, charita...  "
      ]
     },
     "execution_count": 6,
     "metadata": {},
     "output_type": "execute_result"
    }
   ],
   "source": [
    "onelakh_full = pd.read_csv('/Users/vcroopana/Downloads/summer2020/superbowl/ip/affectivestate.csv')\n",
    "onelakh_full = onelakh_full.rename(columns = {'tweet_text_full': 'tweet_text'})\n",
    "onelakh_full_filt = onelakh_full[['user_id', 'tweet_id', 'tweet_text', 'Ad_Name','Description_words']]\n",
    "print(onelakh_full.shape)\n",
    "onelakh_full_filt.head(2)"
   ]
  },
  {
   "cell_type": "code",
   "execution_count": 69,
   "metadata": {},
   "outputs": [
    {
     "data": {
      "text/html": [
       "<div>\n",
       "<style scoped>\n",
       "    .dataframe tbody tr th:only-of-type {\n",
       "        vertical-align: middle;\n",
       "    }\n",
       "\n",
       "    .dataframe tbody tr th {\n",
       "        vertical-align: top;\n",
       "    }\n",
       "\n",
       "    .dataframe thead th {\n",
       "        text-align: right;\n",
       "    }\n",
       "</style>\n",
       "<table border=\"1\" class=\"dataframe\">\n",
       "  <thead>\n",
       "    <tr style=\"text-align: right;\">\n",
       "      <th></th>\n",
       "      <th>Unnamed: 0</th>\n",
       "      <th>user_id</th>\n",
       "      <th>tweet_id</th>\n",
       "      <th>tweet_text</th>\n",
       "      <th>ad_mentioned</th>\n",
       "      <th>time_of_tweet</th>\n",
       "      <th>user_location</th>\n",
       "      <th>team followed</th>\n",
       "      <th>affective_state</th>\n",
       "    </tr>\n",
       "  </thead>\n",
       "  <tbody>\n",
       "    <tr>\n",
       "      <th>0</th>\n",
       "      <td>82036</td>\n",
       "      <td>1.523268e+09</td>\n",
       "      <td>1224204181491180000</td>\n",
       "      <td>RT @TheRickWilson: That thing when you spend m...</td>\n",
       "      <td>homeland  trailer</td>\n",
       "      <td>Mon Feb 03 05:33:16 +0000 2020</td>\n",
       "      <td>portlandia</td>\n",
       "      <td>team_49ers</td>\n",
       "      <td>1</td>\n",
       "    </tr>\n",
       "    <tr>\n",
       "      <th>1</th>\n",
       "      <td>6164</td>\n",
       "      <td>1.005953e+08</td>\n",
       "      <td>1224130997702260000</td>\n",
       "      <td>RT @espn: “Take it to the house, kid!”\\n\\nThis...</td>\n",
       "      <td>reese s  rock</td>\n",
       "      <td>Mon Feb 03 00:42:27 +0000 2020</td>\n",
       "      <td>Tampa,FL</td>\n",
       "      <td>team_kcchiefs</td>\n",
       "      <td>-1</td>\n",
       "    </tr>\n",
       "  </tbody>\n",
       "</table>\n",
       "</div>"
      ],
      "text/plain": [
       "   Unnamed: 0       user_id             tweet_id  \\\n",
       "0       82036  1.523268e+09  1224204181491180000   \n",
       "1        6164  1.005953e+08  1224130997702260000   \n",
       "\n",
       "                                          tweet_text       ad_mentioned  \\\n",
       "0  RT @TheRickWilson: That thing when you spend m...  homeland  trailer   \n",
       "1  RT @espn: “Take it to the house, kid!”\\n\\nThis...      reese s  rock   \n",
       "\n",
       "                    time_of_tweet user_location  team followed  \\\n",
       "0  Mon Feb 03 05:33:16 +0000 2020    portlandia     team_49ers   \n",
       "1  Mon Feb 03 00:42:27 +0000 2020     Tampa,FL   team_kcchiefs   \n",
       "\n",
       "   affective_state  \n",
       "0                1  \n",
       "1               -1  "
      ]
     },
     "execution_count": 69,
     "metadata": {},
     "output_type": "execute_result"
    }
   ],
   "source": [
    "man_ann_3 = pd.read_csv('/Users/vcroopana/Downloads/summer2020/superbowl/3_man_ann_sb.csv')\n",
    "man_ann_3.head(2)\n",
    "man_ann_4 = pd.read_csv('/Users/vcroopana/Downloads/summer2020/superbowl/4_man_ann_sb.csv')\n",
    "man_ann_4.head(2)"
   ]
  },
  {
   "cell_type": "code",
   "execution_count": 70,
   "metadata": {},
   "outputs": [
    {
     "name": "stdout",
     "output_type": "stream",
     "text": [
      "(2456, 30)\n"
     ]
    },
    {
     "data": {
      "text/html": [
       "<div>\n",
       "<style scoped>\n",
       "    .dataframe tbody tr th:only-of-type {\n",
       "        vertical-align: middle;\n",
       "    }\n",
       "\n",
       "    .dataframe tbody tr th {\n",
       "        vertical-align: top;\n",
       "    }\n",
       "\n",
       "    .dataframe thead th {\n",
       "        text-align: right;\n",
       "    }\n",
       "</style>\n",
       "<table border=\"1\" class=\"dataframe\">\n",
       "  <thead>\n",
       "    <tr style=\"text-align: right;\">\n",
       "      <th></th>\n",
       "      <th>Unnamed: 0</th>\n",
       "      <th>user_id</th>\n",
       "      <th>tweet_id</th>\n",
       "      <th>tweet_text</th>\n",
       "      <th>Ad_Name</th>\n",
       "      <th>time_of_tweet</th>\n",
       "      <th>Description_words</th>\n",
       "    </tr>\n",
       "  </thead>\n",
       "  <tbody>\n",
       "    <tr>\n",
       "      <th>0</th>\n",
       "      <td>82036</td>\n",
       "      <td>1.523268e+09</td>\n",
       "      <td>1224204181491180000</td>\n",
       "      <td>RT @TheRickWilson: That thing when you spend m...</td>\n",
       "      <td>homeland  trailer</td>\n",
       "      <td>Mon Feb 03 05:33:16 +0000 2020</td>\n",
       "      <td>trailer, show, homeland, tv</td>\n",
       "    </tr>\n",
       "    <tr>\n",
       "      <th>1</th>\n",
       "      <td>6164</td>\n",
       "      <td>1.005953e+08</td>\n",
       "      <td>1224130997702260000</td>\n",
       "      <td>RT @espn: “Take it to the house, kid!”\\n\\nThis...</td>\n",
       "      <td>reese s  rock</td>\n",
       "      <td>Mon Feb 03 00:42:27 +0000 2020</td>\n",
       "      <td>take5, rock, five, candybar, food, reeses, ree...</td>\n",
       "    </tr>\n",
       "  </tbody>\n",
       "</table>\n",
       "</div>"
      ],
      "text/plain": [
       "   Unnamed: 0       user_id             tweet_id  \\\n",
       "0       82036  1.523268e+09  1224204181491180000   \n",
       "1        6164  1.005953e+08  1224130997702260000   \n",
       "\n",
       "                                          tweet_text             Ad_Name  \\\n",
       "0  RT @TheRickWilson: That thing when you spend m...   homeland  trailer   \n",
       "1  RT @espn: “Take it to the house, kid!”\\n\\nThis...       reese s  rock   \n",
       "\n",
       "                    time_of_tweet  \\\n",
       "0  Mon Feb 03 05:33:16 +0000 2020   \n",
       "1  Mon Feb 03 00:42:27 +0000 2020   \n",
       "\n",
       "                                   Description_words  \n",
       "0                        trailer, show, homeland, tv  \n",
       "1  take5, rock, five, candybar, food, reeses, ree...  "
      ]
     },
     "execution_count": 70,
     "metadata": {},
     "output_type": "execute_result"
    }
   ],
   "source": [
    "merged_df = pd.merge(man_ann_4, onelakh_full, on = 'tweet_id', how = 'inner')\n",
    "print(merged_df.shape)\n",
    "merged_df = merged_df.rename(columns = {'user_id_x': 'user_id', 'ad_mentioned_x': 'ad_mentioned', \n",
    "                                        'user_location_x': 'user_location', 'team followed_x': 'team followed',\n",
    "                                       'tweet_text_x': 'tweet_text'})\n",
    "merged_df = merged_df[['Unnamed: 0','user_id', 'tweet_id', 'tweet_text', 'Ad_Name', 'time_of_tweet','Description_words' ]]\n",
    "merged_df.head(2)"
   ]
  },
  {
   "cell_type": "code",
   "execution_count": 73,
   "metadata": {},
   "outputs": [
    {
     "data": {
      "text/html": [
       "<div>\n",
       "<style scoped>\n",
       "    .dataframe tbody tr th:only-of-type {\n",
       "        vertical-align: middle;\n",
       "    }\n",
       "\n",
       "    .dataframe tbody tr th {\n",
       "        vertical-align: top;\n",
       "    }\n",
       "\n",
       "    .dataframe thead th {\n",
       "        text-align: right;\n",
       "    }\n",
       "</style>\n",
       "<table border=\"1\" class=\"dataframe\">\n",
       "  <thead>\n",
       "    <tr style=\"text-align: right;\">\n",
       "      <th></th>\n",
       "      <th>user_id</th>\n",
       "      <th>tweet_id</th>\n",
       "      <th>tweet_text</th>\n",
       "      <th>Ad_Name</th>\n",
       "      <th>Description_words</th>\n",
       "    </tr>\n",
       "  </thead>\n",
       "  <tbody>\n",
       "    <tr>\n",
       "      <th>33432</th>\n",
       "      <td>2.456901e+09</td>\n",
       "      <td>1224163524689000000</td>\n",
       "      <td>RT @MichaelSkolnik: Trump has pardoned or comm...</td>\n",
       "      <td>donald j. trump for president  criminal justic...</td>\n",
       "      <td>donald, trumpforpresident, trump, safer, j., r...</td>\n",
       "    </tr>\n",
       "    <tr>\n",
       "      <th>15455</th>\n",
       "      <td>4.432981e+08</td>\n",
       "      <td>1224152686297320000</td>\n",
       "      <td>RT @RapSheet: Tom Brady in his Hulu Sports com...</td>\n",
       "      <td>hulu  tom brady s big announcement</td>\n",
       "      <td>hulu, tom, big, tombrady, service, announcemen...</td>\n",
       "    </tr>\n",
       "  </tbody>\n",
       "</table>\n",
       "</div>"
      ],
      "text/plain": [
       "            user_id             tweet_id  \\\n",
       "33432  2.456901e+09  1224163524689000000   \n",
       "15455  4.432981e+08  1224152686297320000   \n",
       "\n",
       "                                              tweet_text  \\\n",
       "33432  RT @MichaelSkolnik: Trump has pardoned or comm...   \n",
       "15455  RT @RapSheet: Tom Brady in his Hulu Sports com...   \n",
       "\n",
       "                                                 Ad_Name  \\\n",
       "33432  donald j. trump for president  criminal justic...   \n",
       "15455                 hulu  tom brady s big announcement   \n",
       "\n",
       "                                       Description_words  \n",
       "33432  donald, trumpforpresident, trump, safer, j., r...  \n",
       "15455  hulu, tom, big, tombrady, service, announcemen...  "
      ]
     },
     "execution_count": 73,
     "metadata": {},
     "output_type": "execute_result"
    }
   ],
   "source": [
    "def getRandTweets(n, rangeMax, onelakh_tweets, ad_check):\n",
    "    seed(1)\n",
    "    randList = []\n",
    "    randTweets = pd.DataFrame(columns = onelakh_tweets.columns)\n",
    "    while(len(randList)< n) :\n",
    "        randInt = randint(0, rangeMax-1)\n",
    "        rand_twt = onelakh_tweets.iloc[randInt:randInt+1]\n",
    "#         print(rand_twt)\n",
    "        if(randInt not in randList and validTweet(rand_twt, randTweets, ad_check)):\n",
    "                randList.append(randInt)\n",
    "                randTweets = randTweets.append(rand_twt)\n",
    "    return randList, randTweets\n",
    "\n",
    "randList, randTweets = getRandTweets(44, 111651, onelakh_full_filt, True)\n",
    "randTweets.head(2)"
   ]
  },
  {
   "cell_type": "code",
   "execution_count": 74,
   "metadata": {},
   "outputs": [],
   "source": [
    "res = merged_df.append(randTweets)\n",
    "res.to_csv('/Users/vcroopana/Downloads/summer2020/superbowl/4_man_ann_sb_full.csv')"
   ]
  },
  {
   "cell_type": "code",
   "execution_count": 44,
   "metadata": {},
   "outputs": [],
   "source": [
    "from random import seed\n",
    "from random import randint\n",
    "\n",
    "def validTweet(tweet, tweet_list, ad_check):\n",
    "    twt_txt = tweet['tweet_text'].values\n",
    "#     print(len(twt_txt))\n",
    "    if( twt_txt not in tweet_list['tweet_text'].values and 'kansas' not in twt_txt[0].lower()):\n",
    "        if(ad_check and (' commercial' in twt_txt[0].lower() or ' ad' in twt_txt[0].lower() \n",
    "                         or ' commercials' in twt_txt[0].lower() or ' ads' in twt_txt[0].lower() \n",
    "                         or ' advertisement' in twt_txt[0].lower() \n",
    "                         or ' advertisement' in twt_txt[0].lower() )):\n",
    "            return True\n",
    "        elif(not ad_check):\n",
    "            return True\n",
    "    else:\n",
    "        return False\n",
    "    \n",
    "def getRandInts(used_randInts, n, rangeMax, onelakh_tweets, ad_check):\n",
    "    seed(1)\n",
    "    randList = []\n",
    "    randTweets = pd.DataFrame(columns = onelakh_tweets.columns)\n",
    "    while(len(randList)< n) :\n",
    "        randInt = randint(0, rangeMax-1)\n",
    "        rand_twt = onelakh_tweets.iloc[randInt:randInt+1]\n",
    "#         print(rand_twt)\n",
    "        if(randInt not in used_randInts and randInt not in randList and validTweet(rand_twt, randTweets, ad_check)):\n",
    "                randList.append(randInt)\n",
    "                randTweets = randTweets.append(rand_twt)\n",
    "    return randList, randTweets\n",
    "\n"
   ]
  },
  {
   "cell_type": "code",
   "execution_count": null,
   "metadata": {},
   "outputs": [],
   "source": [
    "# 50% of the cases which mention ad/commercial , 50 % no specifications\n",
    "# 1000 ad, 750 no ad, 750 \n",
    "randList_ad, rand_tweets_ad = getRandInts(used_randInts, 1250, onelakh_tweets.shape[0], onelakh_tweets, \n",
    "                                          ad_check= True)\n",
    "used_randInts.extend(randList_ad)\n",
    "print(len(used_randInts))\n",
    "randList_no_ad, rand_tweets_no_ad = getRandInts(used_randInts, 1250, onelakh_tweets.shape[0], onelakh_tweets, \n",
    "                                          ad_check = False)\n",
    "used_randInts.extend(randList_no_ad)\n",
    "print(len(used_randInts))\n",
    "\n",
    "# append both the dfs\n",
    "rand_tweets = rand_tweets_ad.append(rand_tweets_no_ad)\n",
    "\n",
    "# append both the rand lists\n",
    "randList = randList_ad\n",
    "randList.extend(randList_no_ad)\n",
    "\n",
    "randList_df = pd.DataFrame(columns = ['random'])\n",
    "randList_df['random'] = randList\n",
    "randList_df.to_csv('/Users/vcroopana/Downloads/summer2020/superbowl/4_randList_2_5_K.csv')\n",
    "rand_tweets.to_csv('/Users/vcroopana/Downloads/summer2020/superbowl/4_man_ann_sb.csv')\n",
    "randList_df.head(2)"
   ]
  },
  {
   "cell_type": "code",
   "execution_count": 24,
   "metadata": {},
   "outputs": [
    {
     "data": {
      "text/plain": [
       "(2500, 8)"
      ]
     },
     "execution_count": 24,
     "metadata": {},
     "output_type": "execute_result"
    }
   ],
   "source": [
    "rand_tweets.shape"
   ]
  },
  {
   "cell_type": "code",
   "execution_count": 25,
   "metadata": {},
   "outputs": [
    {
     "data": {
      "text/plain": [
       "(2490, 8)"
      ]
     },
     "execution_count": 25,
     "metadata": {},
     "output_type": "execute_result"
    }
   ],
   "source": [
    "rand_tweets_uniq = rand_tweets.drop_duplicates(subset =\"tweet_text\")\n",
    "rand_tweets_uniq.shape"
   ]
  },
  {
   "cell_type": "code",
   "execution_count": 15,
   "metadata": {},
   "outputs": [],
   "source": [
    "# pd.set_option('display.max_rows', 500)\n",
    "pd.set_option('display.max_columns', 500)\n",
    "pd.set_option('display.width', 100000)"
   ]
  },
  {
   "cell_type": "code",
   "execution_count": 7,
   "metadata": {},
   "outputs": [
    {
     "data": {
      "text/plain": [
       "(55758, 5)"
      ]
     },
     "execution_count": 7,
     "metadata": {},
     "output_type": "execute_result"
    }
   ],
   "source": [
    "on_lah_uniq = onelakh_full_filt.drop_duplicates(subset = 'tweet_text')\n",
    "on_lah_uniq.shape"
   ]
  },
  {
   "cell_type": "code",
   "execution_count": null,
   "metadata": {},
   "outputs": [],
   "source": [
    "########## Extract the tweets remaining after manually annotating from 1.1 lakh tweets ##########"
   ]
  },
  {
   "cell_type": "code",
   "execution_count": 34,
   "metadata": {},
   "outputs": [
    {
     "data": {
      "text/plain": [
       "(110735, 8)"
      ]
     },
     "execution_count": 34,
     "metadata": {},
     "output_type": "execute_result"
    }
   ],
   "source": [
    "import pandas as pd\n",
    "onelakh_tweets = pd.read_csv('/Users/vcroopana/Downloads/summer2020/superbowl/ip/SB2020_tweets_affectivestate.csv')\n",
    "onelakh_tweets.shape\n"
   ]
  },
  {
   "cell_type": "code",
   "execution_count": 35,
   "metadata": {},
   "outputs": [
    {
     "name": "stdout",
     "output_type": "stream",
     "text": [
      "(10000, 21)\n"
     ]
    }
   ],
   "source": [
    "folder = '/Users/vcroopana/Downloads/summer2020/superbowl/'\n",
    "man_ann_4 = pd.read_csv(folder+'4_man_ann_sb_full.csv')\n",
    "man_ann_3 = pd.read_csv(folder+'3_man_ann_sb_full_1.csv')\n",
    "man_ann_2 = pd.read_csv(folder+'2_man_ann_sb.csv')\n",
    "man_ann_1 = pd.read_csv(folder+'mann_ann_sb.csv')\n",
    "\n",
    "man_ann_data = pd.DataFrame()\n",
    "\n",
    "man_ann_data = man_ann_data.append(man_ann_4)\n",
    "man_ann_data = man_ann_data.append(man_ann_3)\n",
    "man_ann_data = man_ann_data.append(man_ann_2)\n",
    "man_ann_data = man_ann_data.append(man_ann_1)\n",
    "\n",
    "print(man_ann_data.shape)"
   ]
  },
  {
   "cell_type": "code",
   "execution_count": 40,
   "metadata": {},
   "outputs": [],
   "source": [
    "index_one_lakh = man_ann_4['Unnamed: 0.1']\n",
    "index_one_lakh = index_one_lakh.append(man_ann_3['Unnamed: 0.1'])\n",
    "index_one_lakh = index_one_lakh.append(man_ann_2['Unnamed: 0'])\n",
    "index_one_lakh = index_one_lakh.append(man_ann_1['Ò'])\n",
    "# index_one_lakh = index_one_lakh.dropna()"
   ]
  },
  {
   "cell_type": "code",
   "execution_count": 41,
   "metadata": {},
   "outputs": [
    {
     "name": "stdout",
     "output_type": "stream",
     "text": [
      "0       82036.0\n",
      "1        6164.0\n",
      "2       95818.0\n",
      "3        1202.0\n",
      "4       99352.0\n",
      "         ...   \n",
      "2495    65046.0\n",
      "2496    10135.0\n",
      "2497    45802.0\n",
      "2498    28198.0\n",
      "2499    29354.0\n",
      "Length: 10000, dtype: float64\n"
     ]
    }
   ],
   "source": [
    "print(index_one_lakh)"
   ]
  },
  {
   "cell_type": "code",
   "execution_count": 42,
   "metadata": {},
   "outputs": [
    {
     "name": "stdout",
     "output_type": "stream",
     "text": [
      "(110735, 8)\n",
      "(108235, 8)\n"
     ]
    },
    {
     "data": {
      "text/html": [
       "<div>\n",
       "<style scoped>\n",
       "    .dataframe tbody tr th:only-of-type {\n",
       "        vertical-align: middle;\n",
       "    }\n",
       "\n",
       "    .dataframe tbody tr th {\n",
       "        vertical-align: top;\n",
       "    }\n",
       "\n",
       "    .dataframe thead th {\n",
       "        text-align: right;\n",
       "    }\n",
       "</style>\n",
       "<table border=\"1\" class=\"dataframe\">\n",
       "  <thead>\n",
       "    <tr style=\"text-align: right;\">\n",
       "      <th></th>\n",
       "      <th>user_id</th>\n",
       "      <th>tweet_id</th>\n",
       "      <th>tweet_text</th>\n",
       "      <th>ad_mentioned</th>\n",
       "      <th>time_of_tweet</th>\n",
       "      <th>user_location</th>\n",
       "      <th>team followed</th>\n",
       "      <th>affective_state</th>\n",
       "    </tr>\n",
       "  </thead>\n",
       "  <tbody>\n",
       "    <tr>\n",
       "      <th>2500</th>\n",
       "      <td>1.513189e+08</td>\n",
       "      <td>1.224144e+18</td>\n",
       "      <td>They are in Miami ᾓ7ἿD‍♀️</td>\n",
       "      <td>hard rock hotels &amp; casinos  bling cup</td>\n",
       "      <td>Mon Feb 03 01:32:15 +0000 2020</td>\n",
       "      <td>DM[V] via Chi City</td>\n",
       "      <td>team_kcchiefs</td>\n",
       "      <td>1</td>\n",
       "    </tr>\n",
       "    <tr>\n",
       "      <th>2501</th>\n",
       "      <td>3.775888e+09</td>\n",
       "      <td>1.224144e+18</td>\n",
       "      <td>RT @espn: The 49ers and Chiefs took a moment t...</td>\n",
       "      <td>hard rock hotels &amp; casinos  bling cup</td>\n",
       "      <td>Mon Feb 03 01:32:25 +0000 2020</td>\n",
       "      <td>NaN</td>\n",
       "      <td>team_kcchiefs</td>\n",
       "      <td>1</td>\n",
       "    </tr>\n",
       "  </tbody>\n",
       "</table>\n",
       "</div>"
      ],
      "text/plain": [
       "           user_id      tweet_id  \\\n",
       "2500  1.513189e+08  1.224144e+18   \n",
       "2501  3.775888e+09  1.224144e+18   \n",
       "\n",
       "                                             tweet_text  \\\n",
       "2500                          They are in Miami ᾓ7ἿD‍♀️   \n",
       "2501  RT @espn: The 49ers and Chiefs took a moment t...   \n",
       "\n",
       "                               ad_mentioned                   time_of_tweet  \\\n",
       "2500  hard rock hotels & casinos  bling cup  Mon Feb 03 01:32:15 +0000 2020   \n",
       "2501  hard rock hotels & casinos  bling cup  Mon Feb 03 01:32:25 +0000 2020   \n",
       "\n",
       "           user_location  team followed  affective_state  \n",
       "2500  DM[V] via Chi City  team_kcchiefs                1  \n",
       "2501                 NaN  team_kcchiefs                1  "
      ]
     },
     "execution_count": 42,
     "metadata": {},
     "output_type": "execute_result"
    }
   ],
   "source": [
    "remaining_data = pd.DataFrame()\n",
    "remaining_indices = []\n",
    "for i in range(onelakh_tweets.shape[0]):\n",
    "    if i not in index_one_lakh:\n",
    "        remaining_indices.append(i)\n",
    "remaining_data = onelakh_tweets.iloc[remaining_indices]\n",
    "\n",
    "print(onelakh_tweets.shape)\n",
    "print(remaining_data.shape)\n",
    "remaining_data.head(2)\n"
   ]
  },
  {
   "cell_type": "code",
   "execution_count": 45,
   "metadata": {},
   "outputs": [],
   "source": [
    "remaining_data.to_csv(folder+'remaining_tweets_non_man.csv')"
   ]
  },
  {
   "cell_type": "code",
   "execution_count": null,
   "metadata": {},
   "outputs": [],
   "source": [
    "{'bud light seltzer  posty store  inside post s brain': 0, 'pepsi zero sugar  zero sugar. done right.': 1, 'budweiser  typical american': 2, 'amazon echo  before alexa': 3, 'genesis  going away party': 4, 'turbotax  turbotax  all people are tax people remix': 5, 'tide  bud knight': 6, 'squarespace  winona in winona': 7, 'tide  finally later': 8, 'hyundai  smaht pahk': 9, 'hulu  tom brady s big announcement': 10, 'fox  halftime show  teaser_1': 11, 'fox nation  breaking news': 12, 'heinz ketchup  find the goodness  four at once': 13, 'google assistant  loretta': 14, 'planters  baby funeral': 15, 'little caesars pizza  best thing since sliced bread': 16, 'fox  super monday': 17, 'facebook  ready to rock?': 18, 'michelob  6 for 6-pack': 19, 'hard rock hotels & casinos  bling cup': 20, 'pringles  the infinite dimensions of rick and morty': 21, 'fox  a run at history  daytona 500': 22, 'avocados from mexico  the avocados from mexico shopping network': 23, 'microsoft surface  be the one': 24, 'fox  toads  the masked singer': 25, 'cheetos  can t touch this': 26, 'new york life  love takes action': 27, 'sabra  how do you  mmus?': 28, 'nfl  inspire change  anquan boldin': 29, 'walmart  famous visitors': 30, 'amazon prime video  hunters': 31, 'toyota  heroes': 32, 't-mobile  mama tests 5g': 33, 'nfl  building a better game': 34, 'pop-tarts  pop-tarts fixed the pretzel commercial': 35, 'mountain dew': 36, 'donald j. trump for president  criminal justice reform': 37, 'no time to die  trailer': 38, 'rocket mortgage  home': 39, 'quibi  bank heist': 40, 'michelob  jimmy works it out': 41, 'snickers  fix the world': 42, 'kia  tough never quits': 43, 'fox  great american race': 44, 'discover card  yes we’re accepted': 45, 'procter & gamble  when we come together': 46, 'reese s  rock': 47, 'hummer  gmc  quiet revolution': 48, 'verizon  the amazing things 5g won t do': 49, 'fox  halftime show  teaser_2': 50, 'weathertech  lucky dog': 51, 'audi  let it go [t1]': 52, 'jeep  groundhog day [t1]': 53, 'fox  chosen  lego masters': 54, 'olay  make space for women': 55, 'coca-cola energy  show up': 56, 'doritos  the cool ranch': 57, 'marvel  black widow trailer': 58, 'disney+  it s time': 59, 'porsche  the heist': 60, 'none': 61}\n"
   ]
  },
  {
   "cell_type": "code",
   "execution_count": 46,
   "metadata": {},
   "outputs": [],
   "source": [
    "######## check for the categories given #############"
   ]
  },
  {
   "cell_type": "code",
   "execution_count": 52,
   "metadata": {},
   "outputs": [
    {
     "name": "stdout",
     "output_type": "stream",
     "text": [
      "n_ad_related:13650\n",
      "{'marvel  black widow trailer': 0, 'rocket mortgage  home': 53, 'olay  make space for women': 0, 'hard rock hotels & casinos  bling cup': 0, 'homeland trailer': 0, 'microsoft surface  be the one': 0}\n"
     ]
    }
   ],
   "source": [
    "# remaining_data_classd = pd.read_csv(folder+'app_1_multi_class_no_man_ann.csv')\n",
    "remaining_data_classd = pd.read_csv(folder+'app_4_multi_class_no_man_ann.csv')\n",
    "\n",
    "n_ad_related = remaining_data_classd['ad_related'].sum()\n",
    "print(\"n_ad_related:\"+ str(n_ad_related))\n",
    "\n",
    "reqd_ads = {'marvel  black widow trailer':0 ,'rocket mortgage  home':0 , \n",
    "            'olay  make space for women':0 , 'hard rock hotels & casinos  bling cup':0 ,\n",
    "            \"homeland trailer\":0 , \"microsoft surface  be the one\":0}\n",
    "\n",
    "for i,row in remaining_data_classd.iterrows():\n",
    "    ad = row['ad_predicted']\n",
    "    if ad in reqd_ads:\n",
    "        reqd_ads[ad] = reqd_ads[ad]+1\n",
    "print(reqd_ads)"
   ]
  },
  {
   "cell_type": "code",
   "execution_count": 53,
   "metadata": {},
   "outputs": [
    {
     "name": "stdout",
     "output_type": "stream",
     "text": [
      "n_ad_related:13650\n"
     ]
    }
   ],
   "source": [
    "print(\"n_ad_related:\"+ str(n_ad_related))\n",
    "\n"
   ]
  },
  {
   "cell_type": "code",
   "execution_count": null,
   "metadata": {},
   "outputs": [],
   "source": []
  }
 ],
 "metadata": {
  "kernelspec": {
   "display_name": "Python 3",
   "language": "python",
   "name": "python3"
  },
  "language_info": {
   "codemirror_mode": {
    "name": "ipython",
    "version": 3
   },
   "file_extension": ".py",
   "mimetype": "text/x-python",
   "name": "python",
   "nbconvert_exporter": "python",
   "pygments_lexer": "ipython3",
   "version": "3.7.6"
  }
 },
 "nbformat": 4,
 "nbformat_minor": 4
}
